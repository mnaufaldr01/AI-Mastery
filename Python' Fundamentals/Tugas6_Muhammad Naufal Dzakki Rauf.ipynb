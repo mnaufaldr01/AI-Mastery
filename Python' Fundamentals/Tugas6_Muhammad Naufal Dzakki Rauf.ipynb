{
 "cells": [
  {
   "cell_type": "markdown",
   "id": "0abf6b6e",
   "metadata": {},
   "source": [
    "# Lab 1 : Data Manipulation with Pandas\n",
    "\n",
    "## Series"
   ]
  },
  {
   "cell_type": "code",
   "execution_count": 2,
   "id": "c2d7230e",
   "metadata": {},
   "outputs": [
    {
     "data": {
      "text/plain": [
       "0    a\n",
       "1    b\n",
       "2    c\n",
       "3    d\n",
       "dtype: object"
      ]
     },
     "execution_count": 2,
     "metadata": {},
     "output_type": "execute_result"
    }
   ],
   "source": [
    "import pandas as pd\n",
    "import numpy as np\n",
    "\n",
    "x = np.array(['a','b','c','d'])\n",
    "pd.Series(x)"
   ]
  },
  {
   "cell_type": "code",
   "execution_count": 3,
   "id": "fdc7dad5",
   "metadata": {},
   "outputs": [
    {
     "data": {
      "text/plain": [
       "a    1\n",
       "b    2\n",
       "c    3\n",
       "d    4\n",
       "dtype: int64"
      ]
     },
     "execution_count": 3,
     "metadata": {},
     "output_type": "execute_result"
    }
   ],
   "source": [
    "s = pd.Series([1,2,3,4], index=['a','b','c','d'])\n",
    "s"
   ]
  },
  {
   "cell_type": "code",
   "execution_count": 4,
   "id": "35dee6e1",
   "metadata": {},
   "outputs": [
    {
     "name": "stdout",
     "output_type": "stream",
     "text": [
      "3\n"
     ]
    }
   ],
   "source": [
    "print(s['c'])"
   ]
  },
  {
   "cell_type": "markdown",
   "id": "2fef7401",
   "metadata": {},
   "source": [
    "## DataFrame"
   ]
  },
  {
   "cell_type": "code",
   "execution_count": 5,
   "id": "dd04fe06",
   "metadata": {},
   "outputs": [
    {
     "name": "stdout",
     "output_type": "stream",
     "text": [
      "           name  year  reports\n",
      "Medan     Molly  2012        8\n",
      "Bandung     Nur  2014       12\n",
      "Jakarta   Indar  2015       25\n",
      "Surabaya   Adit  2012        7\n"
     ]
    }
   ],
   "source": [
    "# Creating a DataFrame\n",
    "\n",
    "data = {'name': ['Molly', 'Nur','Indar', 'Adit'],\n",
    "       'year': [2012, 2014, 2015, 2012],\n",
    "       'reports': [8, 12, 25, 7]}\n",
    "\n",
    "df = pd.DataFrame(data, index=['Medan','Bandung', 'Jakarta','Surabaya'])\n",
    "print(df)"
   ]
  },
  {
   "cell_type": "code",
   "execution_count": 8,
   "id": "0d06ba69",
   "metadata": {},
   "outputs": [
    {
     "name": "stdout",
     "output_type": "stream",
     "text": [
      "name       Indar\n",
      "year        2015\n",
      "reports       25\n",
      "Name: Jakarta, dtype: object\n",
      "name       Adit\n",
      "year       2012\n",
      "reports       7\n",
      "Name: Surabaya, dtype: object\n"
     ]
    }
   ],
   "source": [
    "# Retrieving data using loc\n",
    "print(df.loc['Jakarta'])\n",
    "\n",
    "# Retrieving data using iloc\n",
    "print(df.iloc[3])"
   ]
  },
  {
   "cell_type": "markdown",
   "id": "aa074a02",
   "metadata": {},
   "source": [
    "### DataFrame Basic Properties"
   ]
  },
  {
   "cell_type": "code",
   "execution_count": 9,
   "id": "fd03c3bd",
   "metadata": {},
   "outputs": [
    {
     "name": "stdout",
     "output_type": "stream",
     "text": [
      "        0\n",
      "0    aman\n",
      "1    Siya\n",
      "2  Denver\n",
      "3   Freya\n"
     ]
    }
   ],
   "source": [
    "# List of strings\n",
    "\n",
    "lst = ['aman', 'Siya', 'Denver', 'Freya']\n",
    "\n",
    "# Calling DataFrame constructor on list\n",
    "df = pd.DataFrame(lst)\n",
    "print(df)"
   ]
  },
  {
   "cell_type": "code",
   "execution_count": 10,
   "id": "65d5389f",
   "metadata": {},
   "outputs": [
    {
     "name": "stdout",
     "output_type": "stream",
     "text": [
      "     Name  Age\n",
      "0     Nur   18\n",
      "1  Gesang   22\n",
      "2     Kia   20\n",
      "3    Jack   28\n"
     ]
    }
   ],
   "source": [
    "# Demonstrate creating DataFrame from dict narray / lists\n",
    "\n",
    "# Intialise data of lists.\n",
    "data = {'Name':['Nur', 'Gesang', 'Kia', 'Jack'],\n",
    "        'Age':[18, 22, 20, 28]}\n",
    "\n",
    "# Create DataFrame\n",
    "df = pd.DataFrame(data)\n",
    "print(df)"
   ]
  },
  {
   "cell_type": "code",
   "execution_count": 11,
   "id": "bfcc4ccf",
   "metadata": {},
   "outputs": [
    {
     "name": "stdout",
     "output_type": "stream",
     "text": [
      "     Name Qualification\n",
      "0     Adi           Msc\n",
      "1  Gesang           BSc\n",
      "2   Indar           MCA\n",
      "3     Nur           Phd\n"
     ]
    }
   ],
   "source": [
    "# Selecting columns\n",
    "\n",
    "# Define a dictionary containing employee data\n",
    "data = {'Name':['Adi', 'Gesang', 'Indar', 'Nur'],\n",
    "        'Age':[27, 34, 22, 30],\n",
    "        'Address':['Jakarta', 'Bandung', 'Medan', 'Surabaya'],\n",
    "        'Qualification':['Msc', 'BSc', 'MCA', 'Phd']}\n",
    "\n",
    "# Convert the dictionary into DataFrame\n",
    "df = pd.DataFrame(data)\n",
    "\n",
    "# Select two columns\n",
    "print(df[['Name','Qualification']])"
   ]
  },
  {
   "cell_type": "code",
   "execution_count": 12,
   "id": "52fe5977",
   "metadata": {},
   "outputs": [
    {
     "name": "stdout",
     "output_type": "stream",
     "text": [
      "    Name  Age Address Qualification\n",
      "0    Adi   27   Medan           Msc\n",
      "2  Indar   22   Medan           MCA\n"
     ]
    }
   ],
   "source": [
    "# Selecting rows\n",
    "\n",
    "data = {'Name':['Adi', 'Gesang', 'Indar', 'Nur', 'Pai'],\n",
    "        'Age':[27, 34, 22, 30, 25],\n",
    "        'Address':['Medan', 'Bandung', 'Medan', 'Surabaya','Surabaya'],\n",
    "        'Qualification':['Msc', 'BSc', 'MCA', 'Phd','BSc']}\n",
    "\n",
    "# Retrieving row by loc method\n",
    "df = pd.DataFrame(data)\n",
    "\n",
    "print(df.loc[(df.Address=='Medan') & (df.Age > 20)])"
   ]
  },
  {
   "cell_type": "code",
   "execution_count": 13,
   "id": "55d024b2",
   "metadata": {},
   "outputs": [
    {
     "data": {
      "text/html": [
       "<div>\n",
       "<style scoped>\n",
       "    .dataframe tbody tr th:only-of-type {\n",
       "        vertical-align: middle;\n",
       "    }\n",
       "\n",
       "    .dataframe tbody tr th {\n",
       "        vertical-align: top;\n",
       "    }\n",
       "\n",
       "    .dataframe thead th {\n",
       "        text-align: right;\n",
       "    }\n",
       "</style>\n",
       "<table border=\"1\" class=\"dataframe\">\n",
       "  <thead>\n",
       "    <tr style=\"text-align: right;\">\n",
       "      <th></th>\n",
       "      <th>Name</th>\n",
       "      <th>Age</th>\n",
       "      <th>Address</th>\n",
       "      <th>Qualification</th>\n",
       "    </tr>\n",
       "  </thead>\n",
       "  <tbody>\n",
       "    <tr>\n",
       "      <th>2</th>\n",
       "      <td>Indar</td>\n",
       "      <td>22</td>\n",
       "      <td>Medan</td>\n",
       "      <td>MCA</td>\n",
       "    </tr>\n",
       "    <tr>\n",
       "      <th>3</th>\n",
       "      <td>Nur</td>\n",
       "      <td>30</td>\n",
       "      <td>Surabaya</td>\n",
       "      <td>Phd</td>\n",
       "    </tr>\n",
       "    <tr>\n",
       "      <th>4</th>\n",
       "      <td>Pai</td>\n",
       "      <td>25</td>\n",
       "      <td>Surabaya</td>\n",
       "      <td>BSc</td>\n",
       "    </tr>\n",
       "  </tbody>\n",
       "</table>\n",
       "</div>"
      ],
      "text/plain": [
       "    Name  Age   Address Qualification\n",
       "2  Indar   22     Medan           MCA\n",
       "3    Nur   30  Surabaya           Phd\n",
       "4    Pai   25  Surabaya           BSc"
      ]
     },
     "execution_count": 13,
     "metadata": {},
     "output_type": "execute_result"
    }
   ],
   "source": [
    "# This code will output all the rows from 2nd index to 4th index\n",
    "df.loc[2:5]"
   ]
  },
  {
   "cell_type": "code",
   "execution_count": 14,
   "id": "999161d3",
   "metadata": {},
   "outputs": [
    {
     "data": {
      "text/html": [
       "<div>\n",
       "<style scoped>\n",
       "    .dataframe tbody tr th:only-of-type {\n",
       "        vertical-align: middle;\n",
       "    }\n",
       "\n",
       "    .dataframe tbody tr th {\n",
       "        vertical-align: top;\n",
       "    }\n",
       "\n",
       "    .dataframe thead th {\n",
       "        text-align: right;\n",
       "    }\n",
       "</style>\n",
       "<table border=\"1\" class=\"dataframe\">\n",
       "  <thead>\n",
       "    <tr style=\"text-align: right;\">\n",
       "      <th></th>\n",
       "      <th>Name</th>\n",
       "      <th>Age</th>\n",
       "      <th>Address</th>\n",
       "      <th>Qualification</th>\n",
       "    </tr>\n",
       "  </thead>\n",
       "  <tbody>\n",
       "    <tr>\n",
       "      <th>0</th>\n",
       "      <td>Adi</td>\n",
       "      <td>27</td>\n",
       "      <td>Medan</td>\n",
       "      <td>Msc</td>\n",
       "    </tr>\n",
       "    <tr>\n",
       "      <th>2</th>\n",
       "      <td>Indar</td>\n",
       "      <td>22</td>\n",
       "      <td>Medan</td>\n",
       "      <td>MCA</td>\n",
       "    </tr>\n",
       "    <tr>\n",
       "      <th>3</th>\n",
       "      <td>Nur</td>\n",
       "      <td>30</td>\n",
       "      <td>Surabaya</td>\n",
       "      <td>Phd</td>\n",
       "    </tr>\n",
       "  </tbody>\n",
       "</table>\n",
       "</div>"
      ],
      "text/plain": [
       "    Name  Age   Address Qualification\n",
       "0    Adi   27     Medan           Msc\n",
       "2  Indar   22     Medan           MCA\n",
       "3    Nur   30  Surabaya           Phd"
      ]
     },
     "execution_count": 14,
     "metadata": {},
     "output_type": "execute_result"
    }
   ],
   "source": [
    "# This will return rows with index 0, 2 and 3.\n",
    "df.iloc[[0,2,3]]"
   ]
  },
  {
   "cell_type": "code",
   "execution_count": 15,
   "id": "47ec3d04",
   "metadata": {},
   "outputs": [
    {
     "data": {
      "text/html": [
       "<div>\n",
       "<style scoped>\n",
       "    .dataframe tbody tr th:only-of-type {\n",
       "        vertical-align: middle;\n",
       "    }\n",
       "\n",
       "    .dataframe tbody tr th {\n",
       "        vertical-align: top;\n",
       "    }\n",
       "\n",
       "    .dataframe thead th {\n",
       "        text-align: right;\n",
       "    }\n",
       "</style>\n",
       "<table border=\"1\" class=\"dataframe\">\n",
       "  <thead>\n",
       "    <tr style=\"text-align: right;\">\n",
       "      <th></th>\n",
       "      <th>Age</th>\n",
       "      <th>Address</th>\n",
       "    </tr>\n",
       "  </thead>\n",
       "  <tbody>\n",
       "    <tr>\n",
       "      <th>1</th>\n",
       "      <td>34</td>\n",
       "      <td>Bandung</td>\n",
       "    </tr>\n",
       "    <tr>\n",
       "      <th>2</th>\n",
       "      <td>22</td>\n",
       "      <td>Medan</td>\n",
       "    </tr>\n",
       "    <tr>\n",
       "      <th>3</th>\n",
       "      <td>30</td>\n",
       "      <td>Surabaya</td>\n",
       "    </tr>\n",
       "    <tr>\n",
       "      <th>4</th>\n",
       "      <td>25</td>\n",
       "      <td>Surabaya</td>\n",
       "    </tr>\n",
       "  </tbody>\n",
       "</table>\n",
       "</div>"
      ],
      "text/plain": [
       "   Age   Address\n",
       "1   34   Bandung\n",
       "2   22     Medan\n",
       "3   30  Surabaya\n",
       "4   25  Surabaya"
      ]
     },
     "execution_count": 15,
     "metadata": {},
     "output_type": "execute_result"
    }
   ],
   "source": [
    "# This will return data of rows from 1st to 4th index and 1st to 2nd column\n",
    "df.iloc[1:5, 1:3]"
   ]
  },
  {
   "cell_type": "markdown",
   "id": "09c29688",
   "metadata": {},
   "source": [
    "## Importing Excel Sheets, CSV files, and executing SQL Queries"
   ]
  },
  {
   "cell_type": "code",
   "execution_count": 17,
   "id": "08f7f9d6",
   "metadata": {},
   "outputs": [
    {
     "name": "stdout",
     "output_type": "stream",
     "text": [
      "Collecting wget\n",
      "  Downloading wget-3.2.zip (10 kB)\n",
      "Building wheels for collected packages: wget\n",
      "  Building wheel for wget (setup.py): started\n",
      "  Building wheel for wget (setup.py): finished with status 'done'\n",
      "  Created wheel for wget: filename=wget-3.2-py3-none-any.whl size=9672 sha256=147cb90860d831164d70d32916ba3badc7cd232727d0f2a182a580bdbabc32a1\n",
      "  Stored in directory: c:\\users\\naufsl\\appdata\\local\\pip\\cache\\wheels\\04\\5f\\3e\\46cc37c5d698415694d83f607f833f83f0149e49b3af9d0f38\n",
      "Successfully built wget\n",
      "Installing collected packages: wget\n",
      "Successfully installed wget-3.2\n"
     ]
    }
   ],
   "source": [
    "import sys\n",
    "!{sys.executable} -m pip install wget"
   ]
  },
  {
   "cell_type": "code",
   "execution_count": 18,
   "id": "2988ad27",
   "metadata": {},
   "outputs": [
    {
     "name": "stdout",
     "output_type": "stream",
     "text": [
      "\r",
      "  0% [                                                                              ]     0 / 13824\r",
      " 59% [..............................................                                ]  8192 / 13824\r",
      "100% [..............................................................................] 13824 / 13824"
     ]
    },
    {
     "data": {
      "text/plain": [
       "'cobb.xls'"
      ]
     },
     "execution_count": 18,
     "metadata": {},
     "output_type": "execute_result"
    }
   ],
   "source": [
    "# Excel Sheets\n",
    "\n",
    "import wget\n",
    "\n",
    "url = 'https://github.com/bharathirajatut/sample-excel-dataset/raw/master/cobb.xls'\n",
    "\n",
    "wget.download(url,'cobb.xls')"
   ]
  },
  {
   "cell_type": "code",
   "execution_count": 19,
   "id": "700e819d",
   "metadata": {},
   "outputs": [
    {
     "name": "stdout",
     "output_type": "stream",
     "text": [
      "            K          L          Q\n",
      "0   10.100000  12.200000  11.000000\n",
      "1   28.200001  30.200001  34.599998\n",
      "2   24.000000  23.000000  21.900000\n",
      "3   21.299999  22.299999  28.200001\n",
      "4   14.300000  15.700000  14.700000\n",
      "5   18.400000  20.799999  20.200001\n",
      "6   10.000000  11.500000   9.700000\n",
      "7   24.000000  25.900000  22.200001\n",
      "8   20.299999  21.500000  17.299999\n",
      "9   20.500000  22.400000  19.500000\n",
      "10  12.200000  14.400000  13.600000\n",
      "11  29.200001  29.500000  34.000000\n",
      "12  25.500000  26.799999  35.099998\n",
      "13  10.800000  12.700000  10.600000\n",
      "14  19.900000  19.600000  18.600000\n",
      "15  24.000000  25.000000  22.900000\n",
      "16  23.200001  25.700001  27.400000\n",
      "17  16.200001  18.000000  16.400000\n",
      "18  19.400000  18.299999  22.000000\n",
      "19  17.200001  19.700001  27.000000\n",
      "20  25.000000  23.700001  27.100000\n",
      "21  20.500000  21.200001  15.600000\n",
      "22  22.100000  23.000000  13.200000\n",
      "23  24.299999  26.299999  27.299999\n",
      "24  20.799999  22.600000  15.400000\n",
      "25  28.900000  30.500000  30.600000\n",
      "26  28.100000  28.600000  24.400000\n",
      "27  27.900000  26.700001  36.099998\n",
      "28  20.700001  21.700001  24.799999\n",
      "29  17.100000  18.500000  21.000000\n",
      "30  11.100000  13.500000  10.200000\n",
      "31  11.700000  13.400000  20.400000\n",
      "32  15.400000  15.700000  14.300000\n"
     ]
    }
   ],
   "source": [
    "df = pd.read_excel('cobb.xls')\n",
    "print(df)"
   ]
  },
  {
   "cell_type": "code",
   "execution_count": 20,
   "id": "f765efb3",
   "metadata": {},
   "outputs": [
    {
     "name": "stdout",
     "output_type": "stream",
     "text": [
      "                   L          Q\n",
      "K                              \n",
      "10.100000  12.200000  11.000000\n",
      "28.200001  30.200001  34.599998\n",
      "24.000000  23.000000  21.900000\n",
      "21.299999  22.299999  28.200001\n",
      "14.300000  15.700000  14.700000\n",
      "18.400000  20.799999  20.200001\n",
      "10.000000  11.500000   9.700000\n",
      "24.000000  25.900000  22.200001\n",
      "20.299999  21.500000  17.299999\n",
      "20.500000  22.400000  19.500000\n",
      "12.200000  14.400000  13.600000\n",
      "29.200001  29.500000  34.000000\n",
      "25.500000  26.799999  35.099998\n",
      "10.800000  12.700000  10.600000\n",
      "19.900000  19.600000  18.600000\n",
      "24.000000  25.000000  22.900000\n",
      "23.200001  25.700001  27.400000\n",
      "16.200001  18.000000  16.400000\n",
      "19.400000  18.299999  22.000000\n",
      "17.200001  19.700001  27.000000\n",
      "25.000000  23.700001  27.100000\n",
      "20.500000  21.200001  15.600000\n",
      "22.100000  23.000000  13.200000\n",
      "24.299999  26.299999  27.299999\n",
      "20.799999  22.600000  15.400000\n",
      "28.900000  30.500000  30.600000\n",
      "28.100000  28.600000  24.400000\n",
      "27.900000  26.700001  36.099998\n",
      "20.700001  21.700001  24.799999\n",
      "17.100000  18.500000  21.000000\n",
      "11.100000  13.500000  10.200000\n",
      "11.700000  13.400000  20.400000\n",
      "15.400000  15.700000  14.300000\n"
     ]
    }
   ],
   "source": [
    "df = pd.read_excel('cobb.xls', index_col = 0)\n",
    "print(df)"
   ]
  },
  {
   "cell_type": "code",
   "execution_count": 21,
   "id": "1f9e4d53",
   "metadata": {},
   "outputs": [
    {
     "name": "stdout",
     "output_type": "stream",
     "text": [
      "            0          1          2\n",
      "0           K          L          Q\n",
      "1        10.1       12.2         11\n",
      "2   28.200001  30.200001  34.599998\n",
      "3          24         23       21.9\n",
      "4   21.299999  22.299999  28.200001\n",
      "5        14.3       15.7       14.7\n",
      "6        18.4  20.799999  20.200001\n",
      "7          10       11.5        9.7\n",
      "8          24       25.9  22.200001\n",
      "9   20.299999       21.5  17.299999\n",
      "10       20.5       22.4       19.5\n",
      "11       12.2       14.4       13.6\n",
      "12  29.200001       29.5         34\n",
      "13       25.5  26.799999  35.099998\n",
      "14       10.8       12.7       10.6\n",
      "15       19.9       19.6       18.6\n",
      "16         24         25       22.9\n",
      "17  23.200001  25.700001       27.4\n",
      "18  16.200001         18       16.4\n",
      "19       19.4  18.299999         22\n",
      "20  17.200001  19.700001         27\n",
      "21         25  23.700001       27.1\n",
      "22       20.5  21.200001       15.6\n",
      "23       22.1         23       13.2\n",
      "24  24.299999  26.299999  27.299999\n",
      "25  20.799999       22.6       15.4\n",
      "26       28.9       30.5       30.6\n",
      "27       28.1       28.6       24.4\n",
      "28       27.9  26.700001  36.099998\n",
      "29  20.700001  21.700001  24.799999\n",
      "30       17.1       18.5         21\n",
      "31       11.1       13.5       10.2\n",
      "32       11.7       13.4       20.4\n",
      "33       15.4       15.7       14.3\n"
     ]
    }
   ],
   "source": [
    "df = pd.read_excel('cobb.xls', header = None)\n",
    "print(df)"
   ]
  },
  {
   "cell_type": "code",
   "execution_count": 22,
   "id": "684572c8",
   "metadata": {},
   "outputs": [
    {
     "name": "stdout",
     "output_type": "stream",
     "text": [
      "\r",
      "  0% [                                                                                ]    0 / 5107\r",
      "100% [................................................................................] 5107 / 5107"
     ]
    },
    {
     "data": {
      "text/plain": [
       "'iris.csv'"
      ]
     },
     "execution_count": 22,
     "metadata": {},
     "output_type": "execute_result"
    }
   ],
   "source": [
    "url = 'https://raw.githubusercontent.com/venky14/Machine-Learning-with-Iris-Dataset/master/Iris.csv'\n",
    "\n",
    "wget.download(url,'iris.csv')"
   ]
  },
  {
   "cell_type": "code",
   "execution_count": 23,
   "id": "0294095c",
   "metadata": {},
   "outputs": [
    {
     "data": {
      "text/html": [
       "<div>\n",
       "<style scoped>\n",
       "    .dataframe tbody tr th:only-of-type {\n",
       "        vertical-align: middle;\n",
       "    }\n",
       "\n",
       "    .dataframe tbody tr th {\n",
       "        vertical-align: top;\n",
       "    }\n",
       "\n",
       "    .dataframe thead th {\n",
       "        text-align: right;\n",
       "    }\n",
       "</style>\n",
       "<table border=\"1\" class=\"dataframe\">\n",
       "  <thead>\n",
       "    <tr style=\"text-align: right;\">\n",
       "      <th></th>\n",
       "      <th>Id</th>\n",
       "      <th>SepalLengthCm</th>\n",
       "      <th>SepalWidthCm</th>\n",
       "      <th>PetalLengthCm</th>\n",
       "      <th>PetalWidthCm</th>\n",
       "      <th>Species</th>\n",
       "    </tr>\n",
       "  </thead>\n",
       "  <tbody>\n",
       "    <tr>\n",
       "      <th>0</th>\n",
       "      <td>1</td>\n",
       "      <td>5.1</td>\n",
       "      <td>3.5</td>\n",
       "      <td>1.4</td>\n",
       "      <td>0.2</td>\n",
       "      <td>Iris-setosa</td>\n",
       "    </tr>\n",
       "    <tr>\n",
       "      <th>1</th>\n",
       "      <td>2</td>\n",
       "      <td>4.9</td>\n",
       "      <td>3.0</td>\n",
       "      <td>1.4</td>\n",
       "      <td>0.2</td>\n",
       "      <td>Iris-setosa</td>\n",
       "    </tr>\n",
       "    <tr>\n",
       "      <th>2</th>\n",
       "      <td>3</td>\n",
       "      <td>4.7</td>\n",
       "      <td>3.2</td>\n",
       "      <td>1.3</td>\n",
       "      <td>0.2</td>\n",
       "      <td>Iris-setosa</td>\n",
       "    </tr>\n",
       "    <tr>\n",
       "      <th>3</th>\n",
       "      <td>4</td>\n",
       "      <td>4.6</td>\n",
       "      <td>3.1</td>\n",
       "      <td>1.5</td>\n",
       "      <td>0.2</td>\n",
       "      <td>Iris-setosa</td>\n",
       "    </tr>\n",
       "    <tr>\n",
       "      <th>4</th>\n",
       "      <td>5</td>\n",
       "      <td>5.0</td>\n",
       "      <td>3.6</td>\n",
       "      <td>1.4</td>\n",
       "      <td>0.2</td>\n",
       "      <td>Iris-setosa</td>\n",
       "    </tr>\n",
       "    <tr>\n",
       "      <th>...</th>\n",
       "      <td>...</td>\n",
       "      <td>...</td>\n",
       "      <td>...</td>\n",
       "      <td>...</td>\n",
       "      <td>...</td>\n",
       "      <td>...</td>\n",
       "    </tr>\n",
       "    <tr>\n",
       "      <th>145</th>\n",
       "      <td>146</td>\n",
       "      <td>6.7</td>\n",
       "      <td>3.0</td>\n",
       "      <td>5.2</td>\n",
       "      <td>2.3</td>\n",
       "      <td>Iris-virginica</td>\n",
       "    </tr>\n",
       "    <tr>\n",
       "      <th>146</th>\n",
       "      <td>147</td>\n",
       "      <td>6.3</td>\n",
       "      <td>2.5</td>\n",
       "      <td>5.0</td>\n",
       "      <td>1.9</td>\n",
       "      <td>Iris-virginica</td>\n",
       "    </tr>\n",
       "    <tr>\n",
       "      <th>147</th>\n",
       "      <td>148</td>\n",
       "      <td>6.5</td>\n",
       "      <td>3.0</td>\n",
       "      <td>5.2</td>\n",
       "      <td>2.0</td>\n",
       "      <td>Iris-virginica</td>\n",
       "    </tr>\n",
       "    <tr>\n",
       "      <th>148</th>\n",
       "      <td>149</td>\n",
       "      <td>6.2</td>\n",
       "      <td>3.4</td>\n",
       "      <td>5.4</td>\n",
       "      <td>2.3</td>\n",
       "      <td>Iris-virginica</td>\n",
       "    </tr>\n",
       "    <tr>\n",
       "      <th>149</th>\n",
       "      <td>150</td>\n",
       "      <td>5.9</td>\n",
       "      <td>3.0</td>\n",
       "      <td>5.1</td>\n",
       "      <td>1.8</td>\n",
       "      <td>Iris-virginica</td>\n",
       "    </tr>\n",
       "  </tbody>\n",
       "</table>\n",
       "<p>150 rows × 6 columns</p>\n",
       "</div>"
      ],
      "text/plain": [
       "      Id  SepalLengthCm  SepalWidthCm  PetalLengthCm  PetalWidthCm  \\\n",
       "0      1            5.1           3.5            1.4           0.2   \n",
       "1      2            4.9           3.0            1.4           0.2   \n",
       "2      3            4.7           3.2            1.3           0.2   \n",
       "3      4            4.6           3.1            1.5           0.2   \n",
       "4      5            5.0           3.6            1.4           0.2   \n",
       "..   ...            ...           ...            ...           ...   \n",
       "145  146            6.7           3.0            5.2           2.3   \n",
       "146  147            6.3           2.5            5.0           1.9   \n",
       "147  148            6.5           3.0            5.2           2.0   \n",
       "148  149            6.2           3.4            5.4           2.3   \n",
       "149  150            5.9           3.0            5.1           1.8   \n",
       "\n",
       "            Species  \n",
       "0       Iris-setosa  \n",
       "1       Iris-setosa  \n",
       "2       Iris-setosa  \n",
       "3       Iris-setosa  \n",
       "4       Iris-setosa  \n",
       "..              ...  \n",
       "145  Iris-virginica  \n",
       "146  Iris-virginica  \n",
       "147  Iris-virginica  \n",
       "148  Iris-virginica  \n",
       "149  Iris-virginica  \n",
       "\n",
       "[150 rows x 6 columns]"
      ]
     },
     "execution_count": 23,
     "metadata": {},
     "output_type": "execute_result"
    }
   ],
   "source": [
    "df = pd.read_csv('iris.csv')\n",
    "df"
   ]
  },
  {
   "cell_type": "markdown",
   "id": "ecdba806",
   "metadata": {},
   "source": [
    "# Lab 2: Data Manipulation with Pandas\n",
    "\n",
    "## Importing and exporting JSON files"
   ]
  },
  {
   "cell_type": "code",
   "execution_count": 28,
   "id": "83e23469",
   "metadata": {},
   "outputs": [],
   "source": [
    "import json\n",
    "\n",
    "# Data to be written\n",
    "dictionary ={\n",
    "    \"name\" : \"Meghan\",\n",
    "    \"rollno\" : 56,\n",
    "    \"cgpa\" : 8.6,\n",
    "    \"age\": 23\n",
    "}\n",
    "\n",
    "# Serializing json\n",
    "json_object = json.dumps(dictionary, indent = 4)\n",
    "\n",
    "# Writing to sample.json\n",
    "with open('sample.json', 'w') as outfile:\n",
    "    outfile.write(json_object)"
   ]
  },
  {
   "cell_type": "code",
   "execution_count": 29,
   "id": "d3ee627a",
   "metadata": {},
   "outputs": [
    {
     "name": "stdout",
     "output_type": "stream",
     "text": [
      "{'name': 'Meghan', 'rollno': 56, 'cgpa': 8.6, 'age': 23}\n",
      "<class 'dict'>\n"
     ]
    }
   ],
   "source": [
    "# Opening JSON file\n",
    "with open('sample.json', 'r') as openfile:\n",
    "    \n",
    "    # Reading from JSON file\n",
    "    json_object = json.load(openfile)\n",
    "\n",
    "print(json_object)\n",
    "print(type(json_object))"
   ]
  },
  {
   "cell_type": "markdown",
   "id": "376f6f5f",
   "metadata": {},
   "source": [
    "## Selection of columns and filtering DataFrame\n",
    "### Selecting"
   ]
  },
  {
   "cell_type": "code",
   "execution_count": 30,
   "id": "a7692f36",
   "metadata": {},
   "outputs": [],
   "source": [
    "data = {'name': ['Indar', 'Angela', 'Tsy', 'Paio'],\n",
    "        'reports': [3, 4, 2, 12],\n",
    "        'age':[23, 22, 32, 24]\n",
    "       }\n",
    "df = pd.DataFrame(data)\n",
    "col_name = df['name']\n",
    "col_reports = df['reports']"
   ]
  },
  {
   "cell_type": "code",
   "execution_count": 31,
   "id": "6eaf7622",
   "metadata": {},
   "outputs": [
    {
     "name": "stdout",
     "output_type": "stream",
     "text": [
      "0    23\n",
      "1    22\n",
      "2    32\n",
      "3    24\n",
      "Name: age, dtype: int64\n",
      "\n",
      "0     3\n",
      "1     4\n",
      "2     2\n",
      "3    12\n",
      "Name: reports, dtype: int64\n"
     ]
    }
   ],
   "source": [
    "print(df.loc[:, 'age'])\n",
    "print()\n",
    "print(df.iloc[:,1])"
   ]
  },
  {
   "cell_type": "code",
   "execution_count": 32,
   "id": "8ee2383e",
   "metadata": {},
   "outputs": [
    {
     "name": "stdout",
     "output_type": "stream",
     "text": [
      "0     Indar\n",
      "1    Angela\n",
      "2       Tsy\n",
      "3      Paio\n",
      "Name: name, dtype: object\n",
      "\n",
      "0     3\n",
      "1     4\n",
      "2     2\n",
      "3    12\n",
      "Name: reports, dtype: int64\n"
     ]
    }
   ],
   "source": [
    "print(col_name)\n",
    "print()\n",
    "print(col_reports)"
   ]
  },
  {
   "cell_type": "markdown",
   "id": "415b9fbc",
   "metadata": {},
   "source": [
    "### Dropping"
   ]
  },
  {
   "cell_type": "code",
   "execution_count": 36,
   "id": "12de97fa",
   "metadata": {},
   "outputs": [
    {
     "data": {
      "text/html": [
       "<div>\n",
       "<style scoped>\n",
       "    .dataframe tbody tr th:only-of-type {\n",
       "        vertical-align: middle;\n",
       "    }\n",
       "\n",
       "    .dataframe tbody tr th {\n",
       "        vertical-align: top;\n",
       "    }\n",
       "\n",
       "    .dataframe thead th {\n",
       "        text-align: right;\n",
       "    }\n",
       "</style>\n",
       "<table border=\"1\" class=\"dataframe\">\n",
       "  <thead>\n",
       "    <tr style=\"text-align: right;\">\n",
       "      <th></th>\n",
       "      <th>name</th>\n",
       "      <th>reports</th>\n",
       "      <th>age</th>\n",
       "    </tr>\n",
       "  </thead>\n",
       "  <tbody>\n",
       "    <tr>\n",
       "      <th>b</th>\n",
       "      <td>Angela</td>\n",
       "      <td>4</td>\n",
       "      <td>22</td>\n",
       "    </tr>\n",
       "    <tr>\n",
       "      <th>c</th>\n",
       "      <td>Tsy</td>\n",
       "      <td>2</td>\n",
       "      <td>32</td>\n",
       "    </tr>\n",
       "    <tr>\n",
       "      <th>d</th>\n",
       "      <td>Paio</td>\n",
       "      <td>12</td>\n",
       "      <td>24</td>\n",
       "    </tr>\n",
       "  </tbody>\n",
       "</table>\n",
       "</div>"
      ],
      "text/plain": [
       "     name  reports  age\n",
       "b  Angela        4   22\n",
       "c     Tsy        2   32\n",
       "d    Paio       12   24"
      ]
     },
     "execution_count": 36,
     "metadata": {},
     "output_type": "execute_result"
    }
   ],
   "source": [
    "data = {'name': ['Indar', 'Angela', 'Tsy', 'Paio'],\n",
    "        'reports': [3, 4, 2, 12],\n",
    "        'age':[23, 22, 32, 24]\n",
    "        }\n",
    "\n",
    "df = pd.DataFrame(data, index=['a', 'b', 'c', 'd'])\n",
    "\n",
    "df.drop('a')"
   ]
  },
  {
   "cell_type": "code",
   "execution_count": 37,
   "id": "3ed24d34",
   "metadata": {},
   "outputs": [
    {
     "data": {
      "text/html": [
       "<div>\n",
       "<style scoped>\n",
       "    .dataframe tbody tr th:only-of-type {\n",
       "        vertical-align: middle;\n",
       "    }\n",
       "\n",
       "    .dataframe tbody tr th {\n",
       "        vertical-align: top;\n",
       "    }\n",
       "\n",
       "    .dataframe thead th {\n",
       "        text-align: right;\n",
       "    }\n",
       "</style>\n",
       "<table border=\"1\" class=\"dataframe\">\n",
       "  <thead>\n",
       "    <tr style=\"text-align: right;\">\n",
       "      <th></th>\n",
       "      <th>name</th>\n",
       "      <th>reports</th>\n",
       "      <th>city</th>\n",
       "    </tr>\n",
       "  </thead>\n",
       "  <tbody>\n",
       "    <tr>\n",
       "      <th>a</th>\n",
       "      <td>Indar</td>\n",
       "      <td>3</td>\n",
       "      <td>Medan</td>\n",
       "    </tr>\n",
       "    <tr>\n",
       "      <th>b</th>\n",
       "      <td>Angela</td>\n",
       "      <td>4</td>\n",
       "      <td>Jakarta</td>\n",
       "    </tr>\n",
       "    <tr>\n",
       "      <th>c</th>\n",
       "      <td>Tsy</td>\n",
       "      <td>2</td>\n",
       "      <td>Badung</td>\n",
       "    </tr>\n",
       "    <tr>\n",
       "      <th>d</th>\n",
       "      <td>Paio</td>\n",
       "      <td>12</td>\n",
       "      <td>Jakarta</td>\n",
       "    </tr>\n",
       "  </tbody>\n",
       "</table>\n",
       "</div>"
      ],
      "text/plain": [
       "     name  reports     city\n",
       "a   Indar        3    Medan\n",
       "b  Angela        4  Jakarta\n",
       "c     Tsy        2   Badung\n",
       "d    Paio       12  Jakarta"
      ]
     },
     "execution_count": 37,
     "metadata": {},
     "output_type": "execute_result"
    }
   ],
   "source": [
    "# Drop age column\n",
    "\n",
    "data = {'name': ['Indar', 'Angela', 'Tsy', 'Paio'],\n",
    "        'reports': [3, 4, 2, 12],\n",
    "        'age':[23, 22, 32, 24],\n",
    "        'city':['Medan', 'Jakarta', 'Badung', 'Jakarta']\n",
    "        }\n",
    "\n",
    "df = pd.DataFrame(data, index=['a', 'b', 'c', 'd'])\n",
    "\n",
    "# Here axis=1 denotes column\n",
    "df.drop('age', axis=1)"
   ]
  },
  {
   "cell_type": "code",
   "execution_count": 38,
   "id": "7eaa2797",
   "metadata": {},
   "outputs": [
    {
     "data": {
      "text/html": [
       "<div>\n",
       "<style scoped>\n",
       "    .dataframe tbody tr th:only-of-type {\n",
       "        vertical-align: middle;\n",
       "    }\n",
       "\n",
       "    .dataframe tbody tr th {\n",
       "        vertical-align: top;\n",
       "    }\n",
       "\n",
       "    .dataframe thead th {\n",
       "        text-align: right;\n",
       "    }\n",
       "</style>\n",
       "<table border=\"1\" class=\"dataframe\">\n",
       "  <thead>\n",
       "    <tr style=\"text-align: right;\">\n",
       "      <th></th>\n",
       "      <th>name</th>\n",
       "      <th>reports</th>\n",
       "      <th>age</th>\n",
       "      <th>city</th>\n",
       "    </tr>\n",
       "  </thead>\n",
       "  <tbody>\n",
       "    <tr>\n",
       "      <th>a</th>\n",
       "      <td>Indar</td>\n",
       "      <td>3</td>\n",
       "      <td>23</td>\n",
       "      <td>Medan</td>\n",
       "    </tr>\n",
       "    <tr>\n",
       "      <th>b</th>\n",
       "      <td>Angela</td>\n",
       "      <td>4</td>\n",
       "      <td>22</td>\n",
       "      <td>Jakarta</td>\n",
       "    </tr>\n",
       "    <tr>\n",
       "      <th>d</th>\n",
       "      <td>Paio</td>\n",
       "      <td>12</td>\n",
       "      <td>24</td>\n",
       "      <td>Jakarta</td>\n",
       "    </tr>\n",
       "  </tbody>\n",
       "</table>\n",
       "</div>"
      ],
      "text/plain": [
       "     name  reports  age     city\n",
       "a   Indar        3   23    Medan\n",
       "b  Angela        4   22  Jakarta\n",
       "d    Paio       12   24  Jakarta"
      ]
     },
     "execution_count": 38,
     "metadata": {},
     "output_type": "execute_result"
    }
   ],
   "source": [
    "# Drop a row using the index value. Here we drop 3rd row with index 'c'\n",
    "df.drop(df.index[2])"
   ]
  },
  {
   "cell_type": "markdown",
   "id": "998379e1",
   "metadata": {},
   "source": [
    "## Joining and Merging Pandas DataFrame\n",
    "### Joining"
   ]
  },
  {
   "cell_type": "code",
   "execution_count": 39,
   "id": "cb514cbd",
   "metadata": {},
   "outputs": [
    {
     "data": {
      "text/html": [
       "<div>\n",
       "<style scoped>\n",
       "    .dataframe tbody tr th:only-of-type {\n",
       "        vertical-align: middle;\n",
       "    }\n",
       "\n",
       "    .dataframe tbody tr th {\n",
       "        vertical-align: top;\n",
       "    }\n",
       "\n",
       "    .dataframe thead th {\n",
       "        text-align: right;\n",
       "    }\n",
       "</style>\n",
       "<table border=\"1\" class=\"dataframe\">\n",
       "  <thead>\n",
       "    <tr style=\"text-align: right;\">\n",
       "      <th></th>\n",
       "      <th>subject_id</th>\n",
       "      <th>first_name</th>\n",
       "      <th>last_name</th>\n",
       "    </tr>\n",
       "  </thead>\n",
       "  <tbody>\n",
       "    <tr>\n",
       "      <th>0</th>\n",
       "      <td>1</td>\n",
       "      <td>Alex</td>\n",
       "      <td>Anderson</td>\n",
       "    </tr>\n",
       "    <tr>\n",
       "      <th>1</th>\n",
       "      <td>2</td>\n",
       "      <td>Allan</td>\n",
       "      <td>Ackerman</td>\n",
       "    </tr>\n",
       "    <tr>\n",
       "      <th>2</th>\n",
       "      <td>3</td>\n",
       "      <td>Adit</td>\n",
       "      <td>Aoni</td>\n",
       "    </tr>\n",
       "    <tr>\n",
       "      <th>3</th>\n",
       "      <td>4</td>\n",
       "      <td>Frezco</td>\n",
       "      <td>Ali</td>\n",
       "    </tr>\n",
       "    <tr>\n",
       "      <th>0</th>\n",
       "      <td>4</td>\n",
       "      <td>Alexa</td>\n",
       "      <td>Lopez</td>\n",
       "    </tr>\n",
       "    <tr>\n",
       "      <th>1</th>\n",
       "      <td>5</td>\n",
       "      <td>Amy</td>\n",
       "      <td>Horan</td>\n",
       "    </tr>\n",
       "    <tr>\n",
       "      <th>2</th>\n",
       "      <td>6</td>\n",
       "      <td>Aadira</td>\n",
       "      <td>Styles</td>\n",
       "    </tr>\n",
       "    <tr>\n",
       "      <th>3</th>\n",
       "      <td>7</td>\n",
       "      <td>Freya</td>\n",
       "      <td>Twain</td>\n",
       "    </tr>\n",
       "  </tbody>\n",
       "</table>\n",
       "</div>"
      ],
      "text/plain": [
       "  subject_id first_name last_name\n",
       "0          1       Alex  Anderson\n",
       "1          2      Allan  Ackerman\n",
       "2          3       Adit      Aoni\n",
       "3          4     Frezco       Ali\n",
       "0          4      Alexa     Lopez\n",
       "1          5        Amy     Horan\n",
       "2          6     Aadira    Styles\n",
       "3          7      Freya     Twain"
      ]
     },
     "execution_count": 39,
     "metadata": {},
     "output_type": "execute_result"
    }
   ],
   "source": [
    "raw_data = {\n",
    "    'subject_id': ['1','2','3','4'],\n",
    "    'first_name': ['Alex','Allan', 'Adit','Frezco'],\n",
    "    'last_name':['Anderson', 'Ackerman', 'Aoni','Ali']\n",
    "    }\n",
    "\n",
    "df_a = pd.DataFrame(raw_data)\n",
    "\n",
    "raw_data = {\n",
    "    'subject_id': ['4','5','6','7'],\n",
    "    'first_name': ['Alexa','Amy', 'Aadira','Freya'],\n",
    "    'last_name':['Lopez', 'Horan', 'Styles','Twain']\n",
    "    }\n",
    "\n",
    "df_b = pd.DataFrame(raw_data)\n",
    "\n",
    "# Joining two DataFrames along rows\n",
    "df_new = pd.concat([df_a, df_b])\n",
    "df_new"
   ]
  },
  {
   "cell_type": "code",
   "execution_count": 40,
   "id": "36c44d8c",
   "metadata": {},
   "outputs": [
    {
     "data": {
      "text/html": [
       "<div>\n",
       "<style scoped>\n",
       "    .dataframe tbody tr th:only-of-type {\n",
       "        vertical-align: middle;\n",
       "    }\n",
       "\n",
       "    .dataframe tbody tr th {\n",
       "        vertical-align: top;\n",
       "    }\n",
       "\n",
       "    .dataframe thead th {\n",
       "        text-align: right;\n",
       "    }\n",
       "</style>\n",
       "<table border=\"1\" class=\"dataframe\">\n",
       "  <thead>\n",
       "    <tr style=\"text-align: right;\">\n",
       "      <th></th>\n",
       "      <th>subject_id</th>\n",
       "      <th>first_name</th>\n",
       "      <th>last_name</th>\n",
       "      <th>subject_id</th>\n",
       "      <th>first_name</th>\n",
       "      <th>last_name</th>\n",
       "    </tr>\n",
       "  </thead>\n",
       "  <tbody>\n",
       "    <tr>\n",
       "      <th>0</th>\n",
       "      <td>1</td>\n",
       "      <td>Alex</td>\n",
       "      <td>Anderson</td>\n",
       "      <td>4</td>\n",
       "      <td>Alexa</td>\n",
       "      <td>Lopez</td>\n",
       "    </tr>\n",
       "    <tr>\n",
       "      <th>1</th>\n",
       "      <td>2</td>\n",
       "      <td>Allan</td>\n",
       "      <td>Ackerman</td>\n",
       "      <td>5</td>\n",
       "      <td>Amy</td>\n",
       "      <td>Horan</td>\n",
       "    </tr>\n",
       "    <tr>\n",
       "      <th>2</th>\n",
       "      <td>3</td>\n",
       "      <td>Adit</td>\n",
       "      <td>Aoni</td>\n",
       "      <td>6</td>\n",
       "      <td>Aadira</td>\n",
       "      <td>Styles</td>\n",
       "    </tr>\n",
       "    <tr>\n",
       "      <th>3</th>\n",
       "      <td>4</td>\n",
       "      <td>Frezco</td>\n",
       "      <td>Ali</td>\n",
       "      <td>7</td>\n",
       "      <td>Freya</td>\n",
       "      <td>Twain</td>\n",
       "    </tr>\n",
       "  </tbody>\n",
       "</table>\n",
       "</div>"
      ],
      "text/plain": [
       "  subject_id first_name last_name subject_id first_name last_name\n",
       "0          1       Alex  Anderson          4      Alexa     Lopez\n",
       "1          2      Allan  Ackerman          5        Amy     Horan\n",
       "2          3       Adit      Aoni          6     Aadira    Styles\n",
       "3          4     Frezco       Ali          7      Freya     Twain"
      ]
     },
     "execution_count": 40,
     "metadata": {},
     "output_type": "execute_result"
    }
   ],
   "source": [
    "# Joining two DataFrames along columns\n",
    "df_new = pd .concat([df_a, df_b], axis=1)\n",
    "df_new"
   ]
  },
  {
   "cell_type": "markdown",
   "id": "da6e2cd3",
   "metadata": {},
   "source": [
    "### Merging"
   ]
  },
  {
   "cell_type": "code",
   "execution_count": 41,
   "id": "b5c3c954",
   "metadata": {},
   "outputs": [
    {
     "data": {
      "text/html": [
       "<div>\n",
       "<style scoped>\n",
       "    .dataframe tbody tr th:only-of-type {\n",
       "        vertical-align: middle;\n",
       "    }\n",
       "\n",
       "    .dataframe tbody tr th {\n",
       "        vertical-align: top;\n",
       "    }\n",
       "\n",
       "    .dataframe thead th {\n",
       "        text-align: right;\n",
       "    }\n",
       "</style>\n",
       "<table border=\"1\" class=\"dataframe\">\n",
       "  <thead>\n",
       "    <tr style=\"text-align: right;\">\n",
       "      <th></th>\n",
       "      <th>subject_id</th>\n",
       "      <th>first_name</th>\n",
       "      <th>last_name</th>\n",
       "    </tr>\n",
       "  </thead>\n",
       "  <tbody>\n",
       "    <tr>\n",
       "      <th>0</th>\n",
       "      <td>1</td>\n",
       "      <td>Alex</td>\n",
       "      <td>Anderson</td>\n",
       "    </tr>\n",
       "    <tr>\n",
       "      <th>1</th>\n",
       "      <td>2</td>\n",
       "      <td>Allan</td>\n",
       "      <td>Ackerman</td>\n",
       "    </tr>\n",
       "    <tr>\n",
       "      <th>2</th>\n",
       "      <td>3</td>\n",
       "      <td>Adit</td>\n",
       "      <td>Aoni</td>\n",
       "    </tr>\n",
       "    <tr>\n",
       "      <th>3</th>\n",
       "      <td>4</td>\n",
       "      <td>Frezco</td>\n",
       "      <td>Ali</td>\n",
       "    </tr>\n",
       "  </tbody>\n",
       "</table>\n",
       "</div>"
      ],
      "text/plain": [
       "  subject_id first_name last_name\n",
       "0          1       Alex  Anderson\n",
       "1          2      Allan  Ackerman\n",
       "2          3       Adit      Aoni\n",
       "3          4     Frezco       Ali"
      ]
     },
     "execution_count": 41,
     "metadata": {},
     "output_type": "execute_result"
    }
   ],
   "source": [
    "df_a.merge(df_b)\n",
    "df_a"
   ]
  },
  {
   "cell_type": "markdown",
   "id": "32ede91e",
   "metadata": {},
   "source": [
    "## Descriptive Analysis with Python"
   ]
  },
  {
   "cell_type": "code",
   "execution_count": 42,
   "id": "dc5f5312",
   "metadata": {},
   "outputs": [
    {
     "data": {
      "text/plain": [
       "count     4.00000\n",
       "mean     36.00000\n",
       "std       2.94392\n",
       "min      33.00000\n",
       "25%      34.50000\n",
       "50%      35.50000\n",
       "75%      37.00000\n",
       "max      40.00000\n",
       "Name: preTestScore, dtype: float64"
      ]
     },
     "execution_count": 42,
     "metadata": {},
     "output_type": "execute_result"
    }
   ],
   "source": [
    "data = {'name': ['Indar', 'Angela', 'Tsy', 'Paio'],\n",
    "       'age': [23, 31, 22, 20],\n",
    "       'preTestScore': [35, 36, 33, 40],\n",
    "       'postTestScore': [39,37,32,38]\n",
    "       }\n",
    "\n",
    "df = pd.DataFrame(data, columns = ['name', 'age', 'preTestScore', 'postTestScore'])\n",
    "\n",
    "# Shows the statistics of preTestScore\n",
    "df['preTestScore'].describe()"
   ]
  },
  {
   "cell_type": "code",
   "execution_count": 45,
   "id": "371073f6",
   "metadata": {},
   "outputs": [
    {
     "data": {
      "text/plain": [
       "144"
      ]
     },
     "execution_count": 45,
     "metadata": {},
     "output_type": "execute_result"
    }
   ],
   "source": [
    "# Sum of the values in preTestScore\n",
    "df['preTestScore'].sum()"
   ]
  },
  {
   "cell_type": "code",
   "execution_count": 46,
   "id": "99ce37d9",
   "metadata": {},
   "outputs": [
    {
     "data": {
      "text/plain": [
       "0     35\n",
       "1     71\n",
       "2    104\n",
       "3    144\n",
       "Name: preTestScore, dtype: int64"
      ]
     },
     "execution_count": 46,
     "metadata": {},
     "output_type": "execute_result"
    }
   ],
   "source": [
    "# Cummulative sum of the values in preTestScore\n",
    "df['preTestScore'].cumsum()"
   ]
  },
  {
   "cell_type": "code",
   "execution_count": 47,
   "id": "1dc1c394",
   "metadata": {},
   "outputs": [
    {
     "data": {
      "text/plain": [
       "4"
      ]
     },
     "execution_count": 47,
     "metadata": {},
     "output_type": "execute_result"
    }
   ],
   "source": [
    "# Counts non-NA values\n",
    "df['preTestScore'].count()"
   ]
  },
  {
   "cell_type": "code",
   "execution_count": 48,
   "id": "fced65d8",
   "metadata": {},
   "outputs": [
    {
     "data": {
      "text/plain": [
       "33"
      ]
     },
     "execution_count": 48,
     "metadata": {},
     "output_type": "execute_result"
    }
   ],
   "source": [
    "#minimum of preTestScore\n",
    "df['preTestScore'].min()"
   ]
  },
  {
   "cell_type": "code",
   "execution_count": 49,
   "id": "ef145615",
   "metadata": {},
   "outputs": [
    {
     "data": {
      "text/plain": [
       "40"
      ]
     },
     "execution_count": 49,
     "metadata": {},
     "output_type": "execute_result"
    }
   ],
   "source": [
    "# Max of preTestScore\n",
    "df['preTestScore'].max()"
   ]
  },
  {
   "cell_type": "code",
   "execution_count": 50,
   "id": "505da7c3",
   "metadata": {},
   "outputs": [
    {
     "data": {
      "text/plain": [
       "35.5"
      ]
     },
     "execution_count": 50,
     "metadata": {},
     "output_type": "execute_result"
    }
   ],
   "source": [
    "# Median of preTestScore\n",
    "df['preTestScore'].median()"
   ]
  },
  {
   "cell_type": "code",
   "execution_count": 51,
   "id": "17dc326e",
   "metadata": {},
   "outputs": [
    {
     "data": {
      "text/plain": [
       "8.666666666666666"
      ]
     },
     "execution_count": 51,
     "metadata": {},
     "output_type": "execute_result"
    }
   ],
   "source": [
    "# Find the variance of the preTestScore column\n",
    "df['preTestScore'].var()"
   ]
  },
  {
   "cell_type": "code",
   "execution_count": 52,
   "id": "e7e44fdf",
   "metadata": {},
   "outputs": [
    {
     "data": {
      "text/plain": [
       "2.943920288775949"
      ]
     },
     "execution_count": 52,
     "metadata": {},
     "output_type": "execute_result"
    }
   ],
   "source": [
    "# Find the standard variance of the preTestScore column\n",
    "df['preTestScore'].std()"
   ]
  },
  {
   "cell_type": "code",
   "execution_count": 53,
   "id": "ef9e72aa",
   "metadata": {},
   "outputs": [
    {
     "data": {
      "text/plain": [
       "0.9406609206739719"
      ]
     },
     "execution_count": 53,
     "metadata": {},
     "output_type": "execute_result"
    }
   ],
   "source": [
    "# Find the skewness of the preTestScore column\n",
    "df['preTestScore'].skew()"
   ]
  },
  {
   "cell_type": "code",
   "execution_count": 54,
   "id": "23c6609f",
   "metadata": {},
   "outputs": [
    {
     "data": {
      "text/plain": [
       "1.5"
      ]
     },
     "execution_count": 54,
     "metadata": {},
     "output_type": "execute_result"
    }
   ],
   "source": [
    "# Find the kurtosis of the preTestScore column\n",
    "df['preTestScore'].kurt()"
   ]
  },
  {
   "cell_type": "markdown",
   "id": "9f86a671",
   "metadata": {},
   "source": [
    "# Lab 3: Data Manipulation with Pandas\n",
    "\n",
    "## Handling Missing Values"
   ]
  },
  {
   "cell_type": "code",
   "execution_count": 55,
   "id": "bdbdf466",
   "metadata": {},
   "outputs": [
    {
     "data": {
      "text/html": [
       "<div>\n",
       "<style scoped>\n",
       "    .dataframe tbody tr th:only-of-type {\n",
       "        vertical-align: middle;\n",
       "    }\n",
       "\n",
       "    .dataframe tbody tr th {\n",
       "        vertical-align: top;\n",
       "    }\n",
       "\n",
       "    .dataframe thead th {\n",
       "        text-align: right;\n",
       "    }\n",
       "</style>\n",
       "<table border=\"1\" class=\"dataframe\">\n",
       "  <thead>\n",
       "    <tr style=\"text-align: right;\">\n",
       "      <th></th>\n",
       "      <th>regiment</th>\n",
       "      <th>trucks</th>\n",
       "      <th>tanks</th>\n",
       "      <th>aircraft</th>\n",
       "    </tr>\n",
       "  </thead>\n",
       "  <tbody>\n",
       "    <tr>\n",
       "      <th>0</th>\n",
       "      <td>51st</td>\n",
       "      <td>MA7160</td>\n",
       "      <td>Merkava Mark 4</td>\n",
       "      <td>NaN</td>\n",
       "    </tr>\n",
       "    <tr>\n",
       "      <th>1</th>\n",
       "      <td>29th</td>\n",
       "      <td>NaN</td>\n",
       "      <td>Merkava Mark 4</td>\n",
       "      <td>none</td>\n",
       "    </tr>\n",
       "    <tr>\n",
       "      <th>2</th>\n",
       "      <td>2nd</td>\n",
       "      <td>BA3211</td>\n",
       "      <td>Merkava Mark 4</td>\n",
       "      <td>none</td>\n",
       "    </tr>\n",
       "    <tr>\n",
       "      <th>3</th>\n",
       "      <td>5th</td>\n",
       "      <td>Tatra10</td>\n",
       "      <td>Leopard 2A6M</td>\n",
       "      <td>Harbin Z-9</td>\n",
       "    </tr>\n",
       "    <tr>\n",
       "      <th>4</th>\n",
       "      <td>45th</td>\n",
       "      <td>RT3121</td>\n",
       "      <td>Arjun MBT</td>\n",
       "      <td>Harbin Z-9</td>\n",
       "    </tr>\n",
       "    <tr>\n",
       "      <th>5</th>\n",
       "      <td>3rd</td>\n",
       "      <td>Tatra10</td>\n",
       "      <td>Arjun MBT</td>\n",
       "      <td>Harbin Z-9</td>\n",
       "    </tr>\n",
       "    <tr>\n",
       "      <th>6</th>\n",
       "      <td>20th</td>\n",
       "      <td>WE2323</td>\n",
       "      <td>Merkava Mark 4</td>\n",
       "      <td>SH-60B Seahawk</td>\n",
       "    </tr>\n",
       "    <tr>\n",
       "      <th>7</th>\n",
       "      <td>198th</td>\n",
       "      <td>Tatra10</td>\n",
       "      <td>Arjun MBT</td>\n",
       "      <td>SH-60B Seahawk</td>\n",
       "    </tr>\n",
       "    <tr>\n",
       "      <th>8</th>\n",
       "      <td>30th</td>\n",
       "      <td>Tatra10</td>\n",
       "      <td>Leopard 2A6M</td>\n",
       "      <td>SH-60B Seahawk</td>\n",
       "    </tr>\n",
       "    <tr>\n",
       "      <th>9</th>\n",
       "      <td>1st</td>\n",
       "      <td>WE2323</td>\n",
       "      <td>Arjun MBT</td>\n",
       "      <td>SH-60B Seahawk</td>\n",
       "    </tr>\n",
       "    <tr>\n",
       "      <th>10</th>\n",
       "      <td>4th</td>\n",
       "      <td>WE2323</td>\n",
       "      <td>Leopard 2A6M</td>\n",
       "      <td>SH-60B Seahawk</td>\n",
       "    </tr>\n",
       "    <tr>\n",
       "      <th>11</th>\n",
       "      <td>22nd</td>\n",
       "      <td>Tatra10</td>\n",
       "      <td>Arjun MBT</td>\n",
       "      <td>SH-60B Seahawk</td>\n",
       "    </tr>\n",
       "  </tbody>\n",
       "</table>\n",
       "</div>"
      ],
      "text/plain": [
       "   regiment   trucks           tanks        aircraft\n",
       "0      51st   MA7160  Merkava Mark 4             NaN\n",
       "1      29th      NaN  Merkava Mark 4            none\n",
       "2       2nd   BA3211  Merkava Mark 4            none\n",
       "3       5th  Tatra10    Leopard 2A6M      Harbin Z-9\n",
       "4      45th   RT3121       Arjun MBT      Harbin Z-9\n",
       "5       3rd  Tatra10       Arjun MBT      Harbin Z-9\n",
       "6      20th   WE2323  Merkava Mark 4  SH-60B Seahawk\n",
       "7     198th  Tatra10       Arjun MBT  SH-60B Seahawk\n",
       "8      30th  Tatra10    Leopard 2A6M  SH-60B Seahawk\n",
       "9       1st   WE2323       Arjun MBT  SH-60B Seahawk\n",
       "10      4th   WE2323    Leopard 2A6M  SH-60B Seahawk\n",
       "11     22nd  Tatra10       Arjun MBT  SH-60B Seahawk"
      ]
     },
     "execution_count": 55,
     "metadata": {},
     "output_type": "execute_result"
    }
   ],
   "source": [
    "data1 = {\n",
    "    'regiment': ['51st','29th', '2nd', '5th', '45th', '3rd', '20th', '198th', '30th', '1st', '4th', '22nd'],\n",
    "    'trucks': ['MA7160', np.nan, 'BA3211', 'Tatra10', 'RT3121','Tatra10', 'WE2323','Tatra10', 'Tatra10', 'WE2323', 'WE2323','Tatra10'],\n",
    "    'tanks': ['Merkava Mark 4', 'Merkava Mark 4', 'Merkava Mark 4', 'Leopard 2A6M', 'Arjun MBT', 'Arjun MBT', 'Merkava Mark 4', 'Arjun MBT', 'Leopard 2A6M', 'Arjun MBT', 'Leopard 2A6M', 'Arjun MBT'],\n",
    "    'aircraft':[ np.nan, 'none', 'none','Harbin Z-9', 'Harbin Z-9', 'Harbin Z-9', 'SH-60B Seahawk', 'SH-60B Seahawk', 'SH-60B Seahawk', 'SH-60B Seahawk','SH-60B Seahawk','SH-60B Seahawk' ]\n",
    "}\n",
    "\n",
    "df = pd.DataFrame(data1)\n",
    "df"
   ]
  },
  {
   "cell_type": "code",
   "execution_count": 56,
   "id": "f75fabe3",
   "metadata": {},
   "outputs": [
    {
     "data": {
      "text/html": [
       "<div>\n",
       "<style scoped>\n",
       "    .dataframe tbody tr th:only-of-type {\n",
       "        vertical-align: middle;\n",
       "    }\n",
       "\n",
       "    .dataframe tbody tr th {\n",
       "        vertical-align: top;\n",
       "    }\n",
       "\n",
       "    .dataframe thead th {\n",
       "        text-align: right;\n",
       "    }\n",
       "</style>\n",
       "<table border=\"1\" class=\"dataframe\">\n",
       "  <thead>\n",
       "    <tr style=\"text-align: right;\">\n",
       "      <th></th>\n",
       "      <th>regiment</th>\n",
       "      <th>trucks</th>\n",
       "      <th>tanks</th>\n",
       "      <th>aircraft</th>\n",
       "      <th>location</th>\n",
       "    </tr>\n",
       "  </thead>\n",
       "  <tbody>\n",
       "    <tr>\n",
       "      <th>0</th>\n",
       "      <td>51st</td>\n",
       "      <td>MA7160</td>\n",
       "      <td>Merkava Mark 4</td>\n",
       "      <td>NaN</td>\n",
       "      <td>NaN</td>\n",
       "    </tr>\n",
       "    <tr>\n",
       "      <th>1</th>\n",
       "      <td>29th</td>\n",
       "      <td>NaN</td>\n",
       "      <td>Merkava Mark 4</td>\n",
       "      <td>none</td>\n",
       "      <td>NaN</td>\n",
       "    </tr>\n",
       "    <tr>\n",
       "      <th>2</th>\n",
       "      <td>2nd</td>\n",
       "      <td>BA3211</td>\n",
       "      <td>Merkava Mark 4</td>\n",
       "      <td>none</td>\n",
       "      <td>NaN</td>\n",
       "    </tr>\n",
       "    <tr>\n",
       "      <th>3</th>\n",
       "      <td>5th</td>\n",
       "      <td>Tatra10</td>\n",
       "      <td>Leopard 2A6M</td>\n",
       "      <td>Harbin Z-9</td>\n",
       "      <td>NaN</td>\n",
       "    </tr>\n",
       "    <tr>\n",
       "      <th>4</th>\n",
       "      <td>45th</td>\n",
       "      <td>RT3121</td>\n",
       "      <td>Arjun MBT</td>\n",
       "      <td>Harbin Z-9</td>\n",
       "      <td>NaN</td>\n",
       "    </tr>\n",
       "    <tr>\n",
       "      <th>5</th>\n",
       "      <td>3rd</td>\n",
       "      <td>Tatra10</td>\n",
       "      <td>Arjun MBT</td>\n",
       "      <td>Harbin Z-9</td>\n",
       "      <td>NaN</td>\n",
       "    </tr>\n",
       "    <tr>\n",
       "      <th>6</th>\n",
       "      <td>20th</td>\n",
       "      <td>WE2323</td>\n",
       "      <td>Merkava Mark 4</td>\n",
       "      <td>SH-60B Seahawk</td>\n",
       "      <td>NaN</td>\n",
       "    </tr>\n",
       "    <tr>\n",
       "      <th>7</th>\n",
       "      <td>198th</td>\n",
       "      <td>Tatra10</td>\n",
       "      <td>Arjun MBT</td>\n",
       "      <td>SH-60B Seahawk</td>\n",
       "      <td>NaN</td>\n",
       "    </tr>\n",
       "    <tr>\n",
       "      <th>8</th>\n",
       "      <td>30th</td>\n",
       "      <td>Tatra10</td>\n",
       "      <td>Leopard 2A6M</td>\n",
       "      <td>SH-60B Seahawk</td>\n",
       "      <td>NaN</td>\n",
       "    </tr>\n",
       "    <tr>\n",
       "      <th>9</th>\n",
       "      <td>1st</td>\n",
       "      <td>WE2323</td>\n",
       "      <td>Arjun MBT</td>\n",
       "      <td>SH-60B Seahawk</td>\n",
       "      <td>NaN</td>\n",
       "    </tr>\n",
       "    <tr>\n",
       "      <th>10</th>\n",
       "      <td>4th</td>\n",
       "      <td>WE2323</td>\n",
       "      <td>Leopard 2A6M</td>\n",
       "      <td>SH-60B Seahawk</td>\n",
       "      <td>NaN</td>\n",
       "    </tr>\n",
       "    <tr>\n",
       "      <th>11</th>\n",
       "      <td>22nd</td>\n",
       "      <td>Tatra10</td>\n",
       "      <td>Arjun MBT</td>\n",
       "      <td>SH-60B Seahawk</td>\n",
       "      <td>NaN</td>\n",
       "    </tr>\n",
       "  </tbody>\n",
       "</table>\n",
       "</div>"
      ],
      "text/plain": [
       "   regiment   trucks           tanks        aircraft  location\n",
       "0      51st   MA7160  Merkava Mark 4             NaN       NaN\n",
       "1      29th      NaN  Merkava Mark 4            none       NaN\n",
       "2       2nd   BA3211  Merkava Mark 4            none       NaN\n",
       "3       5th  Tatra10    Leopard 2A6M      Harbin Z-9       NaN\n",
       "4      45th   RT3121       Arjun MBT      Harbin Z-9       NaN\n",
       "5       3rd  Tatra10       Arjun MBT      Harbin Z-9       NaN\n",
       "6      20th   WE2323  Merkava Mark 4  SH-60B Seahawk       NaN\n",
       "7     198th  Tatra10       Arjun MBT  SH-60B Seahawk       NaN\n",
       "8      30th  Tatra10    Leopard 2A6M  SH-60B Seahawk       NaN\n",
       "9       1st   WE2323       Arjun MBT  SH-60B Seahawk       NaN\n",
       "10      4th   WE2323    Leopard 2A6M  SH-60B Seahawk       NaN\n",
       "11     22nd  Tatra10       Arjun MBT  SH-60B Seahawk       NaN"
      ]
     },
     "execution_count": 56,
     "metadata": {},
     "output_type": "execute_result"
    }
   ],
   "source": [
    "# Create a new column with all NaN values\n",
    "df['location'] = np.nan\n",
    "df"
   ]
  },
  {
   "cell_type": "code",
   "execution_count": 58,
   "id": "86298fbf",
   "metadata": {},
   "outputs": [
    {
     "data": {
      "text/html": [
       "<div>\n",
       "<style scoped>\n",
       "    .dataframe tbody tr th:only-of-type {\n",
       "        vertical-align: middle;\n",
       "    }\n",
       "\n",
       "    .dataframe tbody tr th {\n",
       "        vertical-align: top;\n",
       "    }\n",
       "\n",
       "    .dataframe thead th {\n",
       "        text-align: right;\n",
       "    }\n",
       "</style>\n",
       "<table border=\"1\" class=\"dataframe\">\n",
       "  <thead>\n",
       "    <tr style=\"text-align: right;\">\n",
       "      <th></th>\n",
       "      <th>regiment</th>\n",
       "      <th>trucks</th>\n",
       "      <th>tanks</th>\n",
       "      <th>aircraft</th>\n",
       "    </tr>\n",
       "  </thead>\n",
       "  <tbody>\n",
       "    <tr>\n",
       "      <th>0</th>\n",
       "      <td>51st</td>\n",
       "      <td>MA7160</td>\n",
       "      <td>Merkava Mark 4</td>\n",
       "      <td>NaN</td>\n",
       "    </tr>\n",
       "    <tr>\n",
       "      <th>1</th>\n",
       "      <td>29th</td>\n",
       "      <td>NaN</td>\n",
       "      <td>Merkava Mark 4</td>\n",
       "      <td>none</td>\n",
       "    </tr>\n",
       "    <tr>\n",
       "      <th>2</th>\n",
       "      <td>2nd</td>\n",
       "      <td>BA3211</td>\n",
       "      <td>Merkava Mark 4</td>\n",
       "      <td>none</td>\n",
       "    </tr>\n",
       "    <tr>\n",
       "      <th>3</th>\n",
       "      <td>5th</td>\n",
       "      <td>Tatra10</td>\n",
       "      <td>Leopard 2A6M</td>\n",
       "      <td>Harbin Z-9</td>\n",
       "    </tr>\n",
       "    <tr>\n",
       "      <th>4</th>\n",
       "      <td>45th</td>\n",
       "      <td>RT3121</td>\n",
       "      <td>Arjun MBT</td>\n",
       "      <td>Harbin Z-9</td>\n",
       "    </tr>\n",
       "    <tr>\n",
       "      <th>5</th>\n",
       "      <td>3rd</td>\n",
       "      <td>Tatra10</td>\n",
       "      <td>Arjun MBT</td>\n",
       "      <td>Harbin Z-9</td>\n",
       "    </tr>\n",
       "    <tr>\n",
       "      <th>6</th>\n",
       "      <td>20th</td>\n",
       "      <td>WE2323</td>\n",
       "      <td>Merkava Mark 4</td>\n",
       "      <td>SH-60B Seahawk</td>\n",
       "    </tr>\n",
       "    <tr>\n",
       "      <th>7</th>\n",
       "      <td>198th</td>\n",
       "      <td>Tatra10</td>\n",
       "      <td>Arjun MBT</td>\n",
       "      <td>SH-60B Seahawk</td>\n",
       "    </tr>\n",
       "    <tr>\n",
       "      <th>8</th>\n",
       "      <td>30th</td>\n",
       "      <td>Tatra10</td>\n",
       "      <td>Leopard 2A6M</td>\n",
       "      <td>SH-60B Seahawk</td>\n",
       "    </tr>\n",
       "    <tr>\n",
       "      <th>9</th>\n",
       "      <td>1st</td>\n",
       "      <td>WE2323</td>\n",
       "      <td>Arjun MBT</td>\n",
       "      <td>SH-60B Seahawk</td>\n",
       "    </tr>\n",
       "    <tr>\n",
       "      <th>10</th>\n",
       "      <td>4th</td>\n",
       "      <td>WE2323</td>\n",
       "      <td>Leopard 2A6M</td>\n",
       "      <td>SH-60B Seahawk</td>\n",
       "    </tr>\n",
       "    <tr>\n",
       "      <th>11</th>\n",
       "      <td>22nd</td>\n",
       "      <td>Tatra10</td>\n",
       "      <td>Arjun MBT</td>\n",
       "      <td>SH-60B Seahawk</td>\n",
       "    </tr>\n",
       "  </tbody>\n",
       "</table>\n",
       "</div>"
      ],
      "text/plain": [
       "   regiment   trucks           tanks        aircraft\n",
       "0      51st   MA7160  Merkava Mark 4             NaN\n",
       "1      29th      NaN  Merkava Mark 4            none\n",
       "2       2nd   BA3211  Merkava Mark 4            none\n",
       "3       5th  Tatra10    Leopard 2A6M      Harbin Z-9\n",
       "4      45th   RT3121       Arjun MBT      Harbin Z-9\n",
       "5       3rd  Tatra10       Arjun MBT      Harbin Z-9\n",
       "6      20th   WE2323  Merkava Mark 4  SH-60B Seahawk\n",
       "7     198th  Tatra10       Arjun MBT  SH-60B Seahawk\n",
       "8      30th  Tatra10    Leopard 2A6M  SH-60B Seahawk\n",
       "9       1st   WE2323       Arjun MBT  SH-60B Seahawk\n",
       "10      4th   WE2323    Leopard 2A6M  SH-60B Seahawk\n",
       "11     22nd  Tatra10       Arjun MBT  SH-60B Seahawk"
      ]
     },
     "execution_count": 58,
     "metadata": {},
     "output_type": "execute_result"
    }
   ],
   "source": [
    "# Drop the column containing NaN values\n",
    "df = df.dropna(axis=1, how='all')\n",
    "df"
   ]
  },
  {
   "cell_type": "code",
   "execution_count": 59,
   "id": "81160c7e",
   "metadata": {},
   "outputs": [
    {
     "data": {
      "text/html": [
       "<div>\n",
       "<style scoped>\n",
       "    .dataframe tbody tr th:only-of-type {\n",
       "        vertical-align: middle;\n",
       "    }\n",
       "\n",
       "    .dataframe tbody tr th {\n",
       "        vertical-align: top;\n",
       "    }\n",
       "\n",
       "    .dataframe thead th {\n",
       "        text-align: right;\n",
       "    }\n",
       "</style>\n",
       "<table border=\"1\" class=\"dataframe\">\n",
       "  <thead>\n",
       "    <tr style=\"text-align: right;\">\n",
       "      <th></th>\n",
       "      <th>regiment</th>\n",
       "      <th>trucks</th>\n",
       "      <th>tanks</th>\n",
       "      <th>aircraft</th>\n",
       "    </tr>\n",
       "  </thead>\n",
       "  <tbody>\n",
       "    <tr>\n",
       "      <th>0</th>\n",
       "      <td>51st</td>\n",
       "      <td>MA7160</td>\n",
       "      <td>Merkava Mark 4</td>\n",
       "      <td>NaN</td>\n",
       "    </tr>\n",
       "    <tr>\n",
       "      <th>1</th>\n",
       "      <td>29th</td>\n",
       "      <td>NaN</td>\n",
       "      <td>Merkava Mark 4</td>\n",
       "      <td>none</td>\n",
       "    </tr>\n",
       "    <tr>\n",
       "      <th>2</th>\n",
       "      <td>2nd</td>\n",
       "      <td>BA3211</td>\n",
       "      <td>Merkava Mark 4</td>\n",
       "      <td>none</td>\n",
       "    </tr>\n",
       "    <tr>\n",
       "      <th>3</th>\n",
       "      <td>5th</td>\n",
       "      <td>Tatra10</td>\n",
       "      <td>Leopard 2A6M</td>\n",
       "      <td>Harbin Z-9</td>\n",
       "    </tr>\n",
       "    <tr>\n",
       "      <th>4</th>\n",
       "      <td>45th</td>\n",
       "      <td>RT3121</td>\n",
       "      <td>Arjun MBT</td>\n",
       "      <td>Harbin Z-9</td>\n",
       "    </tr>\n",
       "    <tr>\n",
       "      <th>5</th>\n",
       "      <td>3rd</td>\n",
       "      <td>Tatra10</td>\n",
       "      <td>Arjun MBT</td>\n",
       "      <td>Harbin Z-9</td>\n",
       "    </tr>\n",
       "    <tr>\n",
       "      <th>6</th>\n",
       "      <td>20th</td>\n",
       "      <td>WE2323</td>\n",
       "      <td>Merkava Mark 4</td>\n",
       "      <td>SH-60B Seahawk</td>\n",
       "    </tr>\n",
       "    <tr>\n",
       "      <th>7</th>\n",
       "      <td>198th</td>\n",
       "      <td>Tatra10</td>\n",
       "      <td>Arjun MBT</td>\n",
       "      <td>SH-60B Seahawk</td>\n",
       "    </tr>\n",
       "    <tr>\n",
       "      <th>8</th>\n",
       "      <td>30th</td>\n",
       "      <td>Tatra10</td>\n",
       "      <td>Leopard 2A6M</td>\n",
       "      <td>SH-60B Seahawk</td>\n",
       "    </tr>\n",
       "    <tr>\n",
       "      <th>9</th>\n",
       "      <td>1st</td>\n",
       "      <td>WE2323</td>\n",
       "      <td>Arjun MBT</td>\n",
       "      <td>SH-60B Seahawk</td>\n",
       "    </tr>\n",
       "    <tr>\n",
       "      <th>10</th>\n",
       "      <td>4th</td>\n",
       "      <td>WE2323</td>\n",
       "      <td>Leopard 2A6M</td>\n",
       "      <td>SH-60B Seahawk</td>\n",
       "    </tr>\n",
       "    <tr>\n",
       "      <th>11</th>\n",
       "      <td>22nd</td>\n",
       "      <td>Tatra10</td>\n",
       "      <td>Arjun MBT</td>\n",
       "      <td>SH-60B Seahawk</td>\n",
       "    </tr>\n",
       "  </tbody>\n",
       "</table>\n",
       "</div>"
      ],
      "text/plain": [
       "   regiment   trucks           tanks        aircraft\n",
       "0      51st   MA7160  Merkava Mark 4             NaN\n",
       "1      29th      NaN  Merkava Mark 4            none\n",
       "2       2nd   BA3211  Merkava Mark 4            none\n",
       "3       5th  Tatra10    Leopard 2A6M      Harbin Z-9\n",
       "4      45th   RT3121       Arjun MBT      Harbin Z-9\n",
       "5       3rd  Tatra10       Arjun MBT      Harbin Z-9\n",
       "6      20th   WE2323  Merkava Mark 4  SH-60B Seahawk\n",
       "7     198th  Tatra10       Arjun MBT  SH-60B Seahawk\n",
       "8      30th  Tatra10    Leopard 2A6M  SH-60B Seahawk\n",
       "9       1st   WE2323       Arjun MBT  SH-60B Seahawk\n",
       "10      4th   WE2323    Leopard 2A6M  SH-60B Seahawk\n",
       "11     22nd  Tatra10       Arjun MBT  SH-60B Seahawk"
      ]
     },
     "execution_count": 59,
     "metadata": {},
     "output_type": "execute_result"
    }
   ],
   "source": [
    "# Drop the rows that contain less than 5 observations\n",
    "df.dropna(thresh=5)\n",
    "df"
   ]
  },
  {
   "cell_type": "code",
   "execution_count": 60,
   "id": "ca937fff",
   "metadata": {},
   "outputs": [
    {
     "data": {
      "text/html": [
       "<div>\n",
       "<style scoped>\n",
       "    .dataframe tbody tr th:only-of-type {\n",
       "        vertical-align: middle;\n",
       "    }\n",
       "\n",
       "    .dataframe tbody tr th {\n",
       "        vertical-align: top;\n",
       "    }\n",
       "\n",
       "    .dataframe thead th {\n",
       "        text-align: right;\n",
       "    }\n",
       "</style>\n",
       "<table border=\"1\" class=\"dataframe\">\n",
       "  <thead>\n",
       "    <tr style=\"text-align: right;\">\n",
       "      <th></th>\n",
       "      <th>regiment</th>\n",
       "      <th>trucks</th>\n",
       "      <th>tanks</th>\n",
       "      <th>aircraft</th>\n",
       "    </tr>\n",
       "  </thead>\n",
       "  <tbody>\n",
       "    <tr>\n",
       "      <th>0</th>\n",
       "      <td>51st</td>\n",
       "      <td>MA7160</td>\n",
       "      <td>Merkava Mark 4</td>\n",
       "      <td>0</td>\n",
       "    </tr>\n",
       "    <tr>\n",
       "      <th>1</th>\n",
       "      <td>29th</td>\n",
       "      <td>0</td>\n",
       "      <td>Merkava Mark 4</td>\n",
       "      <td>none</td>\n",
       "    </tr>\n",
       "    <tr>\n",
       "      <th>2</th>\n",
       "      <td>2nd</td>\n",
       "      <td>BA3211</td>\n",
       "      <td>Merkava Mark 4</td>\n",
       "      <td>none</td>\n",
       "    </tr>\n",
       "    <tr>\n",
       "      <th>3</th>\n",
       "      <td>5th</td>\n",
       "      <td>Tatra10</td>\n",
       "      <td>Leopard 2A6M</td>\n",
       "      <td>Harbin Z-9</td>\n",
       "    </tr>\n",
       "    <tr>\n",
       "      <th>4</th>\n",
       "      <td>45th</td>\n",
       "      <td>RT3121</td>\n",
       "      <td>Arjun MBT</td>\n",
       "      <td>Harbin Z-9</td>\n",
       "    </tr>\n",
       "    <tr>\n",
       "      <th>5</th>\n",
       "      <td>3rd</td>\n",
       "      <td>Tatra10</td>\n",
       "      <td>Arjun MBT</td>\n",
       "      <td>Harbin Z-9</td>\n",
       "    </tr>\n",
       "    <tr>\n",
       "      <th>6</th>\n",
       "      <td>20th</td>\n",
       "      <td>WE2323</td>\n",
       "      <td>Merkava Mark 4</td>\n",
       "      <td>SH-60B Seahawk</td>\n",
       "    </tr>\n",
       "    <tr>\n",
       "      <th>7</th>\n",
       "      <td>198th</td>\n",
       "      <td>Tatra10</td>\n",
       "      <td>Arjun MBT</td>\n",
       "      <td>SH-60B Seahawk</td>\n",
       "    </tr>\n",
       "    <tr>\n",
       "      <th>8</th>\n",
       "      <td>30th</td>\n",
       "      <td>Tatra10</td>\n",
       "      <td>Leopard 2A6M</td>\n",
       "      <td>SH-60B Seahawk</td>\n",
       "    </tr>\n",
       "    <tr>\n",
       "      <th>9</th>\n",
       "      <td>1st</td>\n",
       "      <td>WE2323</td>\n",
       "      <td>Arjun MBT</td>\n",
       "      <td>SH-60B Seahawk</td>\n",
       "    </tr>\n",
       "    <tr>\n",
       "      <th>10</th>\n",
       "      <td>4th</td>\n",
       "      <td>WE2323</td>\n",
       "      <td>Leopard 2A6M</td>\n",
       "      <td>SH-60B Seahawk</td>\n",
       "    </tr>\n",
       "    <tr>\n",
       "      <th>11</th>\n",
       "      <td>22nd</td>\n",
       "      <td>Tatra10</td>\n",
       "      <td>Arjun MBT</td>\n",
       "      <td>SH-60B Seahawk</td>\n",
       "    </tr>\n",
       "  </tbody>\n",
       "</table>\n",
       "</div>"
      ],
      "text/plain": [
       "   regiment   trucks           tanks        aircraft\n",
       "0      51st   MA7160  Merkava Mark 4               0\n",
       "1      29th        0  Merkava Mark 4            none\n",
       "2       2nd   BA3211  Merkava Mark 4            none\n",
       "3       5th  Tatra10    Leopard 2A6M      Harbin Z-9\n",
       "4      45th   RT3121       Arjun MBT      Harbin Z-9\n",
       "5       3rd  Tatra10       Arjun MBT      Harbin Z-9\n",
       "6      20th   WE2323  Merkava Mark 4  SH-60B Seahawk\n",
       "7     198th  Tatra10       Arjun MBT  SH-60B Seahawk\n",
       "8      30th  Tatra10    Leopard 2A6M  SH-60B Seahawk\n",
       "9       1st   WE2323       Arjun MBT  SH-60B Seahawk\n",
       "10      4th   WE2323    Leopard 2A6M  SH-60B Seahawk\n",
       "11     22nd  Tatra10       Arjun MBT  SH-60B Seahawk"
      ]
     },
     "execution_count": 60,
     "metadata": {},
     "output_type": "execute_result"
    }
   ],
   "source": [
    "# Replace NaN with any other num/char\n",
    "df.fillna(0)"
   ]
  },
  {
   "cell_type": "markdown",
   "id": "7718ce2d",
   "metadata": {},
   "source": [
    "## Finding Unique Values and Deleting Duplicates"
   ]
  },
  {
   "cell_type": "code",
   "execution_count": 61,
   "id": "cc40f1f3",
   "metadata": {},
   "outputs": [
    {
     "name": "stdout",
     "output_type": "stream",
     "text": [
      "[nan, 'BA3211', 'WE2323', 'Tatra10', 'RT3121', 'MA7160']\n",
      "['MA7160', nan, 'BA3211', 'Tatra10', 'RT3121', 'WE2323']\n"
     ]
    }
   ],
   "source": [
    "data1 = {\n",
    "    'regiment': ['51st','29th', '2nd', '5th', '45th', '3rd', '20th', '198th', '30th', '1st', '4th', '22nd'],\n",
    "    'trucks': ['MA7160', np.nan, 'BA3211', 'Tatra10', 'RT3121', 'Tatra10', 'WE2323','Tatra10', 'Tatra10', 'WE2323', 'WE2323', 'Tatra10'],\n",
    "    'tanks': ['Merkava Mark 4', 'Merkava Mark 4', 'Merkava Mark 4', 'Leopard 2A6M', 'Arjun MBT', 'Arjun MBT', 'Merkava Mark 4', 'Arjun MBT', 'Leopard 2A6M', 'Arjun MBT', 'Leopard 2A6M', 'Arjun MBT'],\n",
    "    'aircraft':['none', 'none', 'none','Harbin Z-9', 'Harbin Z-9', 'Harbin Z-9', 'SH-60B Seahawk', 'SH-60B Seahawk', 'SH-60B Seahawk', 'SH-60B Seahawk','SH-60B Seahawk','SH-60B Seahawk' ]\n",
    "    }\n",
    "df = pd.DataFrame(data1)\n",
    "\n",
    "# Find unique values by turning column into a list\n",
    "# Method 1\n",
    "print(list(set(df.trucks)))\n",
    "\n",
    "#Method 2\n",
    "print(list(df['trucks'].unique()))"
   ]
  },
  {
   "cell_type": "code",
   "execution_count": 62,
   "id": "dde2a672",
   "metadata": {},
   "outputs": [
    {
     "name": "stdout",
     "output_type": "stream",
     "text": [
      "0     False\n",
      "1      True\n",
      "2      True\n",
      "3      True\n",
      "4     False\n",
      "5     False\n",
      "6     False\n",
      "7     False\n",
      "8     False\n",
      "9     False\n",
      "10    False\n",
      "11    False\n",
      "dtype: bool\n"
     ]
    }
   ],
   "source": [
    "# Deleting duplicates in Pandas\n",
    "data1 = {\n",
    "    'regiment': ['51st','51st', '51st','51st','29th', '2nd', '5th', '45th', '3rd', '20th', '198th', '30th'],\n",
    "    'trucks': ['MA7160', 'MA7160', 'MA7160', 'MA7160',np.nan, 'BA3211', 'Tatra10', 'RT3121', 'Tatra10', 'WE2323','Tatra10', 'Tatra10'],\n",
    "    'tanks': ['Merkava Mark 4', 'Merkava Mark 4', 'Merkava Mark 4', 'Merkava Mark 4', 'Merkava Mark 4', 'Merkava Mark 4', 'Leopard 2A6M', 'Arjun MBT', 'Arjun MBT', 'Merkava Mark 4', 'Arjun MBT', 'Leopard 2A6M'],\n",
    "    'aircraft':['none', 'none', 'none', 'none', 'Harbin Z-9', 'none','Harbin Z-9', 'Harbin Z-9', 'Harbin Z-9', 'SH-60B Seahawk', 'SH-60B Seahawk', 'SH-60B Seahawk']\n",
    "    }\n",
    "\n",
    "df = pd.DataFrame(data1)\n",
    "\n",
    "print(df.duplicated())"
   ]
  },
  {
   "cell_type": "code",
   "execution_count": 63,
   "id": "376f1f84",
   "metadata": {},
   "outputs": [
    {
     "data": {
      "text/html": [
       "<div>\n",
       "<style scoped>\n",
       "    .dataframe tbody tr th:only-of-type {\n",
       "        vertical-align: middle;\n",
       "    }\n",
       "\n",
       "    .dataframe tbody tr th {\n",
       "        vertical-align: top;\n",
       "    }\n",
       "\n",
       "    .dataframe thead th {\n",
       "        text-align: right;\n",
       "    }\n",
       "</style>\n",
       "<table border=\"1\" class=\"dataframe\">\n",
       "  <thead>\n",
       "    <tr style=\"text-align: right;\">\n",
       "      <th></th>\n",
       "      <th>regiment</th>\n",
       "      <th>trucks</th>\n",
       "      <th>tanks</th>\n",
       "      <th>aircraft</th>\n",
       "    </tr>\n",
       "  </thead>\n",
       "  <tbody>\n",
       "    <tr>\n",
       "      <th>0</th>\n",
       "      <td>51st</td>\n",
       "      <td>MA7160</td>\n",
       "      <td>Merkava Mark 4</td>\n",
       "      <td>none</td>\n",
       "    </tr>\n",
       "    <tr>\n",
       "      <th>4</th>\n",
       "      <td>29th</td>\n",
       "      <td>NaN</td>\n",
       "      <td>Merkava Mark 4</td>\n",
       "      <td>Harbin Z-9</td>\n",
       "    </tr>\n",
       "    <tr>\n",
       "      <th>5</th>\n",
       "      <td>2nd</td>\n",
       "      <td>BA3211</td>\n",
       "      <td>Merkava Mark 4</td>\n",
       "      <td>none</td>\n",
       "    </tr>\n",
       "    <tr>\n",
       "      <th>6</th>\n",
       "      <td>5th</td>\n",
       "      <td>Tatra10</td>\n",
       "      <td>Leopard 2A6M</td>\n",
       "      <td>Harbin Z-9</td>\n",
       "    </tr>\n",
       "    <tr>\n",
       "      <th>7</th>\n",
       "      <td>45th</td>\n",
       "      <td>RT3121</td>\n",
       "      <td>Arjun MBT</td>\n",
       "      <td>Harbin Z-9</td>\n",
       "    </tr>\n",
       "    <tr>\n",
       "      <th>8</th>\n",
       "      <td>3rd</td>\n",
       "      <td>Tatra10</td>\n",
       "      <td>Arjun MBT</td>\n",
       "      <td>Harbin Z-9</td>\n",
       "    </tr>\n",
       "    <tr>\n",
       "      <th>9</th>\n",
       "      <td>20th</td>\n",
       "      <td>WE2323</td>\n",
       "      <td>Merkava Mark 4</td>\n",
       "      <td>SH-60B Seahawk</td>\n",
       "    </tr>\n",
       "    <tr>\n",
       "      <th>10</th>\n",
       "      <td>198th</td>\n",
       "      <td>Tatra10</td>\n",
       "      <td>Arjun MBT</td>\n",
       "      <td>SH-60B Seahawk</td>\n",
       "    </tr>\n",
       "    <tr>\n",
       "      <th>11</th>\n",
       "      <td>30th</td>\n",
       "      <td>Tatra10</td>\n",
       "      <td>Leopard 2A6M</td>\n",
       "      <td>SH-60B Seahawk</td>\n",
       "    </tr>\n",
       "  </tbody>\n",
       "</table>\n",
       "</div>"
      ],
      "text/plain": [
       "   regiment   trucks           tanks        aircraft\n",
       "0      51st   MA7160  Merkava Mark 4            none\n",
       "4      29th      NaN  Merkava Mark 4      Harbin Z-9\n",
       "5       2nd   BA3211  Merkava Mark 4            none\n",
       "6       5th  Tatra10    Leopard 2A6M      Harbin Z-9\n",
       "7      45th   RT3121       Arjun MBT      Harbin Z-9\n",
       "8       3rd  Tatra10       Arjun MBT      Harbin Z-9\n",
       "9      20th   WE2323  Merkava Mark 4  SH-60B Seahawk\n",
       "10    198th  Tatra10       Arjun MBT  SH-60B Seahawk\n",
       "11     30th  Tatra10    Leopard 2A6M  SH-60B Seahawk"
      ]
     },
     "execution_count": 63,
     "metadata": {},
     "output_type": "execute_result"
    }
   ],
   "source": [
    "# Remove duplicates\n",
    "\n",
    "df.drop_duplicates()"
   ]
  },
  {
   "cell_type": "markdown",
   "id": "c8b25db4",
   "metadata": {},
   "source": [
    "## Analyzing Outliers"
   ]
  },
  {
   "cell_type": "code",
   "execution_count": 64,
   "id": "9daf8418",
   "metadata": {},
   "outputs": [
    {
     "data": {
      "text/html": [
       "<div>\n",
       "<style scoped>\n",
       "    .dataframe tbody tr th:only-of-type {\n",
       "        vertical-align: middle;\n",
       "    }\n",
       "\n",
       "    .dataframe tbody tr th {\n",
       "        vertical-align: top;\n",
       "    }\n",
       "\n",
       "    .dataframe thead th {\n",
       "        text-align: right;\n",
       "    }\n",
       "</style>\n",
       "<table border=\"1\" class=\"dataframe\">\n",
       "  <thead>\n",
       "    <tr style=\"text-align: right;\">\n",
       "      <th></th>\n",
       "      <th>name</th>\n",
       "      <th>height</th>\n",
       "    </tr>\n",
       "  </thead>\n",
       "  <tbody>\n",
       "    <tr>\n",
       "      <th>0</th>\n",
       "      <td>Adit</td>\n",
       "      <td>5.9</td>\n",
       "    </tr>\n",
       "    <tr>\n",
       "      <th>1</th>\n",
       "      <td>Gia</td>\n",
       "      <td>5.2</td>\n",
       "    </tr>\n",
       "    <tr>\n",
       "      <th>2</th>\n",
       "      <td>Tim</td>\n",
       "      <td>5.1</td>\n",
       "    </tr>\n",
       "    <tr>\n",
       "      <th>3</th>\n",
       "      <td>Mark</td>\n",
       "      <td>5.5</td>\n",
       "    </tr>\n",
       "    <tr>\n",
       "      <th>4</th>\n",
       "      <td>Nur</td>\n",
       "      <td>4.9</td>\n",
       "    </tr>\n",
       "    <tr>\n",
       "      <th>5</th>\n",
       "      <td>Adil</td>\n",
       "      <td>5.4</td>\n",
       "    </tr>\n",
       "    <tr>\n",
       "      <th>6</th>\n",
       "      <td>Kia</td>\n",
       "      <td>6.2</td>\n",
       "    </tr>\n",
       "    <tr>\n",
       "      <th>7</th>\n",
       "      <td>Indar</td>\n",
       "      <td>6.5</td>\n",
       "    </tr>\n",
       "    <tr>\n",
       "      <th>8</th>\n",
       "      <td>Tia</td>\n",
       "      <td>7.1</td>\n",
       "    </tr>\n",
       "    <tr>\n",
       "      <th>9</th>\n",
       "      <td>Jack</td>\n",
       "      <td>14.5</td>\n",
       "    </tr>\n",
       "    <tr>\n",
       "      <th>10</th>\n",
       "      <td>Adele</td>\n",
       "      <td>6.1</td>\n",
       "    </tr>\n",
       "    <tr>\n",
       "      <th>11</th>\n",
       "      <td>Niall</td>\n",
       "      <td>5.6</td>\n",
       "    </tr>\n",
       "    <tr>\n",
       "      <th>12</th>\n",
       "      <td>Harry</td>\n",
       "      <td>1.2</td>\n",
       "    </tr>\n",
       "    <tr>\n",
       "      <th>13</th>\n",
       "      <td>Tom</td>\n",
       "      <td>5.5</td>\n",
       "    </tr>\n",
       "  </tbody>\n",
       "</table>\n",
       "</div>"
      ],
      "text/plain": [
       "     name  height\n",
       "0    Adit     5.9\n",
       "1     Gia     5.2\n",
       "2     Tim     5.1\n",
       "3    Mark     5.5\n",
       "4     Nur     4.9\n",
       "5    Adil     5.4\n",
       "6     Kia     6.2\n",
       "7   Indar     6.5\n",
       "8     Tia     7.1\n",
       "9    Jack    14.5\n",
       "10  Adele     6.1\n",
       "11  Niall     5.6\n",
       "12  Harry     1.2\n",
       "13    Tom     5.5"
      ]
     },
     "execution_count": 64,
     "metadata": {},
     "output_type": "execute_result"
    }
   ],
   "source": [
    "height_data = {\n",
    "    'name':['Adit', 'Gia', 'Tim', 'Mark', 'Nur', 'Adil', 'Kia', 'Indar', 'Tia', 'Jack', 'Adele', 'Niall', 'Harry', 'Tom'],\n",
    "    'height': [5.9, 5.2, 5.1, 5.5, 4.9, 5.4, 6.2, 6.5, 7.1, 14.5, 6.1, 5.6, 1.2, 5.5]}\n",
    "\n",
    "df = pd.DataFrame(height_data)\n",
    "df"
   ]
  },
  {
   "cell_type": "markdown",
   "id": "4046c363",
   "metadata": {},
   "source": [
    "### InterQuartile Range a Box Plot View"
   ]
  },
  {
   "cell_type": "code",
   "execution_count": 66,
   "id": "3f4728e8",
   "metadata": {},
   "outputs": [
    {
     "data": {
      "text/plain": [
       "9.689999999999998"
      ]
     },
     "execution_count": 66,
     "metadata": {},
     "output_type": "execute_result"
    }
   ],
   "source": [
    "max_threshold = df['height'].quantile(0.95)\n",
    "max_threshold"
   ]
  },
  {
   "cell_type": "code",
   "execution_count": 67,
   "id": "4577abb3",
   "metadata": {},
   "outputs": [
    {
     "data": {
      "text/plain": [
       "3.6050000000000004"
      ]
     },
     "execution_count": 67,
     "metadata": {},
     "output_type": "execute_result"
    }
   ],
   "source": [
    "min_threshold = df['height'].quantile(0.05)\n",
    "min_threshold"
   ]
  },
  {
   "cell_type": "code",
   "execution_count": 68,
   "id": "75846663",
   "metadata": {},
   "outputs": [
    {
     "data": {
      "text/html": [
       "<div>\n",
       "<style scoped>\n",
       "    .dataframe tbody tr th:only-of-type {\n",
       "        vertical-align: middle;\n",
       "    }\n",
       "\n",
       "    .dataframe tbody tr th {\n",
       "        vertical-align: top;\n",
       "    }\n",
       "\n",
       "    .dataframe thead th {\n",
       "        text-align: right;\n",
       "    }\n",
       "</style>\n",
       "<table border=\"1\" class=\"dataframe\">\n",
       "  <thead>\n",
       "    <tr style=\"text-align: right;\">\n",
       "      <th></th>\n",
       "      <th>name</th>\n",
       "      <th>height</th>\n",
       "    </tr>\n",
       "  </thead>\n",
       "  <tbody>\n",
       "    <tr>\n",
       "      <th>9</th>\n",
       "      <td>Jack</td>\n",
       "      <td>14.5</td>\n",
       "    </tr>\n",
       "  </tbody>\n",
       "</table>\n",
       "</div>"
      ],
      "text/plain": [
       "   name  height\n",
       "9  Jack    14.5"
      ]
     },
     "execution_count": 68,
     "metadata": {},
     "output_type": "execute_result"
    }
   ],
   "source": [
    "#This is an outlier, above than the maximum limit\n",
    "df[df['height']>max_threshold]"
   ]
  },
  {
   "cell_type": "code",
   "execution_count": 69,
   "id": "d0b49a6a",
   "metadata": {},
   "outputs": [
    {
     "data": {
      "text/html": [
       "<div>\n",
       "<style scoped>\n",
       "    .dataframe tbody tr th:only-of-type {\n",
       "        vertical-align: middle;\n",
       "    }\n",
       "\n",
       "    .dataframe tbody tr th {\n",
       "        vertical-align: top;\n",
       "    }\n",
       "\n",
       "    .dataframe thead th {\n",
       "        text-align: right;\n",
       "    }\n",
       "</style>\n",
       "<table border=\"1\" class=\"dataframe\">\n",
       "  <thead>\n",
       "    <tr style=\"text-align: right;\">\n",
       "      <th></th>\n",
       "      <th>name</th>\n",
       "      <th>height</th>\n",
       "    </tr>\n",
       "  </thead>\n",
       "  <tbody>\n",
       "    <tr>\n",
       "      <th>12</th>\n",
       "      <td>Harry</td>\n",
       "      <td>1.2</td>\n",
       "    </tr>\n",
       "  </tbody>\n",
       "</table>\n",
       "</div>"
      ],
      "text/plain": [
       "     name  height\n",
       "12  Harry     1.2"
      ]
     },
     "execution_count": 69,
     "metadata": {},
     "output_type": "execute_result"
    }
   ],
   "source": [
    "#This is an outlier, below than the minimum limit\n",
    "df[df['height']<min_threshold]"
   ]
  },
  {
   "cell_type": "code",
   "execution_count": 71,
   "id": "68faf959",
   "metadata": {},
   "outputs": [
    {
     "data": {
      "text/html": [
       "<div>\n",
       "<style scoped>\n",
       "    .dataframe tbody tr th:only-of-type {\n",
       "        vertical-align: middle;\n",
       "    }\n",
       "\n",
       "    .dataframe tbody tr th {\n",
       "        vertical-align: top;\n",
       "    }\n",
       "\n",
       "    .dataframe thead th {\n",
       "        text-align: right;\n",
       "    }\n",
       "</style>\n",
       "<table border=\"1\" class=\"dataframe\">\n",
       "  <thead>\n",
       "    <tr style=\"text-align: right;\">\n",
       "      <th></th>\n",
       "      <th>name</th>\n",
       "      <th>height</th>\n",
       "    </tr>\n",
       "  </thead>\n",
       "  <tbody>\n",
       "    <tr>\n",
       "      <th>0</th>\n",
       "      <td>Adit</td>\n",
       "      <td>5.9</td>\n",
       "    </tr>\n",
       "    <tr>\n",
       "      <th>1</th>\n",
       "      <td>Gia</td>\n",
       "      <td>5.2</td>\n",
       "    </tr>\n",
       "    <tr>\n",
       "      <th>2</th>\n",
       "      <td>Tim</td>\n",
       "      <td>5.1</td>\n",
       "    </tr>\n",
       "    <tr>\n",
       "      <th>3</th>\n",
       "      <td>Mark</td>\n",
       "      <td>5.5</td>\n",
       "    </tr>\n",
       "    <tr>\n",
       "      <th>4</th>\n",
       "      <td>Nur</td>\n",
       "      <td>4.9</td>\n",
       "    </tr>\n",
       "    <tr>\n",
       "      <th>5</th>\n",
       "      <td>Adil</td>\n",
       "      <td>5.4</td>\n",
       "    </tr>\n",
       "    <tr>\n",
       "      <th>6</th>\n",
       "      <td>Kia</td>\n",
       "      <td>6.2</td>\n",
       "    </tr>\n",
       "    <tr>\n",
       "      <th>7</th>\n",
       "      <td>Indar</td>\n",
       "      <td>6.5</td>\n",
       "    </tr>\n",
       "    <tr>\n",
       "      <th>8</th>\n",
       "      <td>Tia</td>\n",
       "      <td>7.1</td>\n",
       "    </tr>\n",
       "    <tr>\n",
       "      <th>10</th>\n",
       "      <td>Adele</td>\n",
       "      <td>6.1</td>\n",
       "    </tr>\n",
       "    <tr>\n",
       "      <th>11</th>\n",
       "      <td>Niall</td>\n",
       "      <td>5.6</td>\n",
       "    </tr>\n",
       "    <tr>\n",
       "      <th>13</th>\n",
       "      <td>Tom</td>\n",
       "      <td>5.5</td>\n",
       "    </tr>\n",
       "  </tbody>\n",
       "</table>\n",
       "</div>"
      ],
      "text/plain": [
       "     name  height\n",
       "0    Adit     5.9\n",
       "1     Gia     5.2\n",
       "2     Tim     5.1\n",
       "3    Mark     5.5\n",
       "4     Nur     4.9\n",
       "5    Adil     5.4\n",
       "6     Kia     6.2\n",
       "7   Indar     6.5\n",
       "8     Tia     7.1\n",
       "10  Adele     6.1\n",
       "11  Niall     5.6\n",
       "13    Tom     5.5"
      ]
     },
     "execution_count": 71,
     "metadata": {},
     "output_type": "execute_result"
    }
   ],
   "source": [
    "new_df = df[(df['height']<max_threshold) & (df['height']>min_threshold)]\n",
    "new_df"
   ]
  },
  {
   "cell_type": "markdown",
   "id": "62b1e6d9",
   "metadata": {},
   "source": [
    "### Boxplot"
   ]
  },
  {
   "cell_type": "code",
   "execution_count": 72,
   "id": "09357ab9",
   "metadata": {},
   "outputs": [
    {
     "data": {
      "image/png": "[encoded data removed]",
      "text/plain": [
       "<Figure size 432x288 with 1 Axes>"
      ]
     },
     "metadata": {
      "needs_background": "light"
     },
     "output_type": "display_data"
    }
   ],
   "source": [
    "height_data = {\n",
    "    'name':['Adit', 'Gia', 'Tim', 'Mark', 'Nur', 'Adil', 'Kia', 'Indar', 'Tia', 'Jack', 'Adele', 'Niall', 'Harry', 'Tom'],\n",
    "    'height': [5.9, 5.2, 5.1, 5.5, 4.9, 5.4, 6.2, 6.5, 7.1, 14.5, 6.1, 5.6, 1.2, 5.5]}\n",
    "\n",
    "df = pd.DataFrame(height_data)\n",
    "df = df['height'].astype(int)\n",
    "\n",
    "import matplotlib.pyplot as plt\n",
    "%matplotlib inline\n",
    "plt.boxplot(df)\n",
    "plt.show()"
   ]
  },
  {
   "cell_type": "markdown",
   "id": "6a6ff965",
   "metadata": {},
   "source": [
    "# Lab 4: Data Manipulation with Pandas\n",
    "\n",
    "## Creating new categorical features from contiinuous variable"
   ]
  },
  {
   "cell_type": "code",
   "execution_count": 73,
   "id": "ec95fea4",
   "metadata": {},
   "outputs": [
    {
     "data": {
      "text/html": [
       "<div>\n",
       "<style scoped>\n",
       "    .dataframe tbody tr th:only-of-type {\n",
       "        vertical-align: middle;\n",
       "    }\n",
       "\n",
       "    .dataframe tbody tr th {\n",
       "        vertical-align: top;\n",
       "    }\n",
       "\n",
       "    .dataframe thead th {\n",
       "        text-align: right;\n",
       "    }\n",
       "</style>\n",
       "<table border=\"1\" class=\"dataframe\">\n",
       "  <thead>\n",
       "    <tr style=\"text-align: right;\">\n",
       "      <th></th>\n",
       "      <th>AGE</th>\n",
       "      <th>bins</th>\n",
       "    </tr>\n",
       "  </thead>\n",
       "  <tbody>\n",
       "    <tr>\n",
       "      <th>0</th>\n",
       "      <td>52</td>\n",
       "      <td>Adult</td>\n",
       "    </tr>\n",
       "    <tr>\n",
       "      <th>1</th>\n",
       "      <td>93</td>\n",
       "      <td>Elderly</td>\n",
       "    </tr>\n",
       "    <tr>\n",
       "      <th>2</th>\n",
       "      <td>15</td>\n",
       "      <td>Child</td>\n",
       "    </tr>\n",
       "    <tr>\n",
       "      <th>3</th>\n",
       "      <td>72</td>\n",
       "      <td>Elderly</td>\n",
       "    </tr>\n",
       "    <tr>\n",
       "      <th>4</th>\n",
       "      <td>61</td>\n",
       "      <td>Adult</td>\n",
       "    </tr>\n",
       "    <tr>\n",
       "      <th>5</th>\n",
       "      <td>21</td>\n",
       "      <td>Adult</td>\n",
       "    </tr>\n",
       "    <tr>\n",
       "      <th>6</th>\n",
       "      <td>83</td>\n",
       "      <td>Elderly</td>\n",
       "    </tr>\n",
       "    <tr>\n",
       "      <th>7</th>\n",
       "      <td>87</td>\n",
       "      <td>Elderly</td>\n",
       "    </tr>\n",
       "    <tr>\n",
       "      <th>8</th>\n",
       "      <td>75</td>\n",
       "      <td>Elderly</td>\n",
       "    </tr>\n",
       "    <tr>\n",
       "      <th>9</th>\n",
       "      <td>75</td>\n",
       "      <td>Elderly</td>\n",
       "    </tr>\n",
       "    <tr>\n",
       "      <th>10</th>\n",
       "      <td>88</td>\n",
       "      <td>Elderly</td>\n",
       "    </tr>\n",
       "    <tr>\n",
       "      <th>11</th>\n",
       "      <td>24</td>\n",
       "      <td>Adult</td>\n",
       "    </tr>\n",
       "    <tr>\n",
       "      <th>12</th>\n",
       "      <td>3</td>\n",
       "      <td>Child</td>\n",
       "    </tr>\n",
       "    <tr>\n",
       "      <th>13</th>\n",
       "      <td>22</td>\n",
       "      <td>Adult</td>\n",
       "    </tr>\n",
       "    <tr>\n",
       "      <th>14</th>\n",
       "      <td>53</td>\n",
       "      <td>Adult</td>\n",
       "    </tr>\n",
       "    <tr>\n",
       "      <th>15</th>\n",
       "      <td>2</td>\n",
       "      <td>Toddler/Baby</td>\n",
       "    </tr>\n",
       "    <tr>\n",
       "      <th>16</th>\n",
       "      <td>88</td>\n",
       "      <td>Elderly</td>\n",
       "    </tr>\n",
       "    <tr>\n",
       "      <th>17</th>\n",
       "      <td>30</td>\n",
       "      <td>Adult</td>\n",
       "    </tr>\n",
       "    <tr>\n",
       "      <th>18</th>\n",
       "      <td>38</td>\n",
       "      <td>Adult</td>\n",
       "    </tr>\n",
       "    <tr>\n",
       "      <th>19</th>\n",
       "      <td>2</td>\n",
       "      <td>Toddler/Baby</td>\n",
       "    </tr>\n",
       "  </tbody>\n",
       "</table>\n",
       "</div>"
      ],
      "text/plain": [
       "    AGE          bins\n",
       "0    52         Adult\n",
       "1    93       Elderly\n",
       "2    15         Child\n",
       "3    72       Elderly\n",
       "4    61         Adult\n",
       "5    21         Adult\n",
       "6    83       Elderly\n",
       "7    87       Elderly\n",
       "8    75       Elderly\n",
       "9    75       Elderly\n",
       "10   88       Elderly\n",
       "11   24         Adult\n",
       "12    3         Child\n",
       "13   22         Adult\n",
       "14   53         Adult\n",
       "15    2  Toddler/Baby\n",
       "16   88       Elderly\n",
       "17   30         Adult\n",
       "18   38         Adult\n",
       "19    2  Toddler/Baby"
      ]
     },
     "execution_count": 73,
     "metadata": {},
     "output_type": "execute_result"
    }
   ],
   "source": [
    "# Creating Age\n",
    "rng = np.random.RandomState(42)\n",
    "age = pd.DataFrame({'AGE': rng.randint(1,100,20)})\n",
    "age['bins'] = pd.cut(x=age['AGE'],\n",
    "                    bins = [0,2,17,65,99], \n",
    "                    labels = ['Toddler/Baby', 'Child', 'Adult', 'Elderly'])\n",
    "\n",
    "age"
   ]
  },
  {
   "cell_type": "markdown",
   "id": "dcf3a3e3",
   "metadata": {},
   "source": [
    "### Groupby Operation"
   ]
  },
  {
   "cell_type": "code",
   "execution_count": 74,
   "id": "1c84f6b7",
   "metadata": {},
   "outputs": [
    {
     "data": {
      "text/html": [
       "<div>\n",
       "<style scoped>\n",
       "    .dataframe tbody tr th:only-of-type {\n",
       "        vertical-align: middle;\n",
       "    }\n",
       "\n",
       "    .dataframe tbody tr th {\n",
       "        vertical-align: top;\n",
       "    }\n",
       "\n",
       "    .dataframe thead th {\n",
       "        text-align: right;\n",
       "    }\n",
       "</style>\n",
       "<table border=\"1\" class=\"dataframe\">\n",
       "  <thead>\n",
       "    <tr style=\"text-align: right;\">\n",
       "      <th></th>\n",
       "      <th>class</th>\n",
       "      <th>order</th>\n",
       "      <th>max_speed</th>\n",
       "    </tr>\n",
       "  </thead>\n",
       "  <tbody>\n",
       "    <tr>\n",
       "      <th>falcon</th>\n",
       "      <td>bird</td>\n",
       "      <td>Falconiformes</td>\n",
       "      <td>389.0</td>\n",
       "    </tr>\n",
       "    <tr>\n",
       "      <th>parrot</th>\n",
       "      <td>bird</td>\n",
       "      <td>Psittaciformes</td>\n",
       "      <td>24.0</td>\n",
       "    </tr>\n",
       "    <tr>\n",
       "      <th>lion</th>\n",
       "      <td>mammal</td>\n",
       "      <td>Carnivora</td>\n",
       "      <td>80.2</td>\n",
       "    </tr>\n",
       "    <tr>\n",
       "      <th>monkey</th>\n",
       "      <td>mammal</td>\n",
       "      <td>Primates</td>\n",
       "      <td>NaN</td>\n",
       "    </tr>\n",
       "    <tr>\n",
       "      <th>leopard</th>\n",
       "      <td>mammal</td>\n",
       "      <td>Carnivora</td>\n",
       "      <td>58.0</td>\n",
       "    </tr>\n",
       "  </tbody>\n",
       "</table>\n",
       "</div>"
      ],
      "text/plain": [
       "          class           order  max_speed\n",
       "falcon     bird   Falconiformes      389.0\n",
       "parrot     bird  Psittaciformes       24.0\n",
       "lion     mammal       Carnivora       80.2\n",
       "monkey   mammal        Primates        NaN\n",
       "leopard  mammal       Carnivora       58.0"
      ]
     },
     "execution_count": 74,
     "metadata": {},
     "output_type": "execute_result"
    }
   ],
   "source": [
    "df = pd.DataFrame(\n",
    "    [\n",
    "        (\"bird\", \"Falconiformes\", 389.0),\n",
    "        (\"bird\", \"Psittaciformes\", 24.0),\n",
    "        (\"mammal\", \"Carnivora\", 80.2),\n",
    "        (\"mammal\", \"Primates\", np.nan),\n",
    "        (\"mammal\", \"Carnivora\", 58),\n",
    "    ],\n",
    "    index=[\"falcon\", \"parrot\", \"lion\", \"monkey\", \"leopard\"],\n",
    "    columns=(\"class\", \"order\", \"max_speed\"),\n",
    ")\n",
    "df"
   ]
  },
  {
   "cell_type": "markdown",
   "id": "5768ae35",
   "metadata": {},
   "source": [
    "### Aggregration"
   ]
  },
  {
   "cell_type": "code",
   "execution_count": 76,
   "id": "34de9205",
   "metadata": {},
   "outputs": [
    {
     "data": {
      "text/plain": [
       "class\n",
       "bird      413.0\n",
       "mammal    138.2\n",
       "Name: max_speed, dtype: float64"
      ]
     },
     "execution_count": 76,
     "metadata": {},
     "output_type": "execute_result"
    }
   ],
   "source": [
    "# Aggregration\n",
    "df.groupby(['class'])['max_speed'].sum()"
   ]
  },
  {
   "cell_type": "code",
   "execution_count": 77,
   "id": "f3325893",
   "metadata": {},
   "outputs": [
    {
     "data": {
      "text/plain": [
       "falcon     389.0\n",
       "parrot      24.0\n",
       "lion        80.2\n",
       "monkey      69.1\n",
       "leopard     58.0\n",
       "Name: max_speed, dtype: float64"
      ]
     },
     "execution_count": 77,
     "metadata": {},
     "output_type": "execute_result"
    }
   ],
   "source": [
    "# Transformation\n",
    "df.groupby(['class'])['max_speed'].transform(lambda x:x.fillna(x.mean()))"
   ]
  },
  {
   "cell_type": "markdown",
   "id": "975af9e7",
   "metadata": {},
   "source": [
    "### Filtering"
   ]
  },
  {
   "cell_type": "code",
   "execution_count": 78,
   "id": "05de7c68",
   "metadata": {},
   "outputs": [
    {
     "data": {
      "text/plain": [
       "falcon    389.0\n",
       "parrot     24.0\n",
       "Name: max_speed, dtype: float64"
      ]
     },
     "execution_count": 78,
     "metadata": {},
     "output_type": "execute_result"
    }
   ],
   "source": [
    "# Filtering\n",
    "df.groupby(['class'])['max_speed'].filter(lambda x: x.mean() > 200)"
   ]
  },
  {
   "cell_type": "code",
   "execution_count": 81,
   "id": "71a00d44",
   "metadata": {},
   "outputs": [
    {
     "data": {
      "text/html": [
       "<div>\n",
       "<style scoped>\n",
       "    .dataframe tbody tr th:only-of-type {\n",
       "        vertical-align: middle;\n",
       "    }\n",
       "\n",
       "    .dataframe tbody tr th {\n",
       "        vertical-align: top;\n",
       "    }\n",
       "\n",
       "    .dataframe thead th {\n",
       "        text-align: right;\n",
       "    }\n",
       "</style>\n",
       "<table border=\"1\" class=\"dataframe\">\n",
       "  <thead>\n",
       "    <tr style=\"text-align: right;\">\n",
       "      <th></th>\n",
       "      <th>class</th>\n",
       "      <th>order</th>\n",
       "      <th>max_speed</th>\n",
       "    </tr>\n",
       "  </thead>\n",
       "  <tbody>\n",
       "    <tr>\n",
       "      <th>falcon</th>\n",
       "      <td>bird</td>\n",
       "      <td>Falconiformes</td>\n",
       "      <td>389.0</td>\n",
       "    </tr>\n",
       "    <tr>\n",
       "      <th>parrot</th>\n",
       "      <td>bird</td>\n",
       "      <td>Psittaciformes</td>\n",
       "      <td>24.0</td>\n",
       "    </tr>\n",
       "  </tbody>\n",
       "</table>\n",
       "</div>"
      ],
      "text/plain": [
       "       class           order  max_speed\n",
       "falcon  bird   Falconiformes      389.0\n",
       "parrot  bird  Psittaciformes       24.0"
      ]
     },
     "execution_count": 81,
     "metadata": {},
     "output_type": "execute_result"
    }
   ],
   "source": [
    "# Getting Groups\n",
    "groups = df.groupby(['class'])\n",
    "groups.get_group('bird')"
   ]
  },
  {
   "cell_type": "code",
   "execution_count": 82,
   "id": "a635a1eb",
   "metadata": {},
   "outputs": [
    {
     "name": "stdout",
     "output_type": "stream",
     "text": [
      "\n",
      "Name: bird\n",
      "\n",
      "        class           order  max_speed\n",
      "falcon  bird   Falconiformes      389.0\n",
      "parrot  bird  Psittaciformes       24.0\n",
      "\n",
      "Name: mammal\n",
      "\n",
      "           class      order  max_speed\n",
      "lion     mammal  Carnivora       80.2\n",
      "monkey   mammal   Primates        NaN\n",
      "leopard  mammal  Carnivora       58.0\n"
     ]
    }
   ],
   "source": [
    "# Iterating through groups\n",
    "for name, data in groups:\n",
    "    print(\"\\nName:\", name)\n",
    "    print(\"\\n\", data)"
   ]
  },
  {
   "cell_type": "markdown",
   "id": "4044d885",
   "metadata": {},
   "source": [
    "### Groupby Statistical Analysis"
   ]
  },
  {
   "cell_type": "code",
   "execution_count": 83,
   "id": "bcb260f1",
   "metadata": {},
   "outputs": [
    {
     "data": {
      "text/html": [
       "<div>\n",
       "<style scoped>\n",
       "    .dataframe tbody tr th:only-of-type {\n",
       "        vertical-align: middle;\n",
       "    }\n",
       "\n",
       "    .dataframe tbody tr th {\n",
       "        vertical-align: top;\n",
       "    }\n",
       "\n",
       "    .dataframe thead th {\n",
       "        text-align: right;\n",
       "    }\n",
       "</style>\n",
       "<table border=\"1\" class=\"dataframe\">\n",
       "  <thead>\n",
       "    <tr style=\"text-align: right;\">\n",
       "      <th></th>\n",
       "      <th>total_bill</th>\n",
       "      <th>tip</th>\n",
       "      <th>sex</th>\n",
       "      <th>smoker</th>\n",
       "      <th>day</th>\n",
       "      <th>time</th>\n",
       "      <th>size</th>\n",
       "    </tr>\n",
       "  </thead>\n",
       "  <tbody>\n",
       "    <tr>\n",
       "      <th>0</th>\n",
       "      <td>16.99</td>\n",
       "      <td>1.01</td>\n",
       "      <td>Female</td>\n",
       "      <td>No</td>\n",
       "      <td>Sun</td>\n",
       "      <td>Dinner</td>\n",
       "      <td>2</td>\n",
       "    </tr>\n",
       "    <tr>\n",
       "      <th>1</th>\n",
       "      <td>10.34</td>\n",
       "      <td>1.66</td>\n",
       "      <td>Male</td>\n",
       "      <td>No</td>\n",
       "      <td>Sun</td>\n",
       "      <td>Dinner</td>\n",
       "      <td>3</td>\n",
       "    </tr>\n",
       "    <tr>\n",
       "      <th>2</th>\n",
       "      <td>21.01</td>\n",
       "      <td>3.50</td>\n",
       "      <td>Male</td>\n",
       "      <td>No</td>\n",
       "      <td>Sun</td>\n",
       "      <td>Dinner</td>\n",
       "      <td>3</td>\n",
       "    </tr>\n",
       "    <tr>\n",
       "      <th>3</th>\n",
       "      <td>23.68</td>\n",
       "      <td>3.31</td>\n",
       "      <td>Male</td>\n",
       "      <td>No</td>\n",
       "      <td>Sun</td>\n",
       "      <td>Dinner</td>\n",
       "      <td>2</td>\n",
       "    </tr>\n",
       "    <tr>\n",
       "      <th>4</th>\n",
       "      <td>24.59</td>\n",
       "      <td>3.61</td>\n",
       "      <td>Female</td>\n",
       "      <td>No</td>\n",
       "      <td>Sun</td>\n",
       "      <td>Dinner</td>\n",
       "      <td>4</td>\n",
       "    </tr>\n",
       "  </tbody>\n",
       "</table>\n",
       "</div>"
      ],
      "text/plain": [
       "   total_bill   tip     sex smoker  day    time  size\n",
       "0       16.99  1.01  Female     No  Sun  Dinner     2\n",
       "1       10.34  1.66    Male     No  Sun  Dinner     3\n",
       "2       21.01  3.50    Male     No  Sun  Dinner     3\n",
       "3       23.68  3.31    Male     No  Sun  Dinner     2\n",
       "4       24.59  3.61  Female     No  Sun  Dinner     4"
      ]
     },
     "execution_count": 83,
     "metadata": {},
     "output_type": "execute_result"
    }
   ],
   "source": [
    "# Getting the data\n",
    "import seaborn as sns\n",
    "df1 = sns.load_dataset('tips')\n",
    "df1.head()"
   ]
  },
  {
   "cell_type": "code",
   "execution_count": 84,
   "id": "565b33a8",
   "metadata": {},
   "outputs": [
    {
     "data": {
      "text/html": [
       "<div>\n",
       "<style scoped>\n",
       "    .dataframe tbody tr th:only-of-type {\n",
       "        vertical-align: middle;\n",
       "    }\n",
       "\n",
       "    .dataframe tbody tr th {\n",
       "        vertical-align: top;\n",
       "    }\n",
       "\n",
       "    .dataframe thead tr th {\n",
       "        text-align: left;\n",
       "    }\n",
       "\n",
       "    .dataframe thead tr:last-of-type th {\n",
       "        text-align: right;\n",
       "    }\n",
       "</style>\n",
       "<table border=\"1\" class=\"dataframe\">\n",
       "  <thead>\n",
       "    <tr>\n",
       "      <th></th>\n",
       "      <th></th>\n",
       "      <th>total_bill</th>\n",
       "      <th colspan=\"4\" halign=\"left\">tip</th>\n",
       "    </tr>\n",
       "    <tr>\n",
       "      <th></th>\n",
       "      <th></th>\n",
       "      <th>median</th>\n",
       "      <th>median</th>\n",
       "      <th>min</th>\n",
       "      <th>max</th>\n",
       "      <th>count</th>\n",
       "    </tr>\n",
       "    <tr>\n",
       "      <th>sex</th>\n",
       "      <th>smoker</th>\n",
       "      <th></th>\n",
       "      <th></th>\n",
       "      <th></th>\n",
       "      <th></th>\n",
       "      <th></th>\n",
       "    </tr>\n",
       "  </thead>\n",
       "  <tbody>\n",
       "    <tr>\n",
       "      <th rowspan=\"2\" valign=\"top\">Male</th>\n",
       "      <th>Yes</th>\n",
       "      <td>20.39</td>\n",
       "      <td>3.00</td>\n",
       "      <td>1.00</td>\n",
       "      <td>10.0</td>\n",
       "      <td>60</td>\n",
       "    </tr>\n",
       "    <tr>\n",
       "      <th>No</th>\n",
       "      <td>18.24</td>\n",
       "      <td>2.74</td>\n",
       "      <td>1.25</td>\n",
       "      <td>9.0</td>\n",
       "      <td>97</td>\n",
       "    </tr>\n",
       "    <tr>\n",
       "      <th rowspan=\"2\" valign=\"top\">Female</th>\n",
       "      <th>Yes</th>\n",
       "      <td>16.27</td>\n",
       "      <td>2.88</td>\n",
       "      <td>1.00</td>\n",
       "      <td>6.5</td>\n",
       "      <td>33</td>\n",
       "    </tr>\n",
       "    <tr>\n",
       "      <th>No</th>\n",
       "      <td>16.69</td>\n",
       "      <td>2.68</td>\n",
       "      <td>1.00</td>\n",
       "      <td>5.2</td>\n",
       "      <td>54</td>\n",
       "    </tr>\n",
       "  </tbody>\n",
       "</table>\n",
       "</div>"
      ],
      "text/plain": [
       "              total_bill    tip                  \n",
       "                  median median   min   max count\n",
       "sex    smoker                                    \n",
       "Male   Yes         20.39   3.00  1.00  10.0    60\n",
       "       No          18.24   2.74  1.25   9.0    97\n",
       "Female Yes         16.27   2.88  1.00   6.5    33\n",
       "       No          16.69   2.68  1.00   5.2    54"
      ]
     },
     "execution_count": 84,
     "metadata": {},
     "output_type": "execute_result"
    }
   ],
   "source": [
    "df1.groupby(['sex', 'smoker']).agg({\n",
    "    'total_bill': ['median'],\n",
    "    'tip': ['median', 'min', 'max', 'count']\n",
    "    })"
   ]
  },
  {
   "cell_type": "code",
   "execution_count": null,
   "id": "018ffde8",
   "metadata": {},
   "outputs": [],
   "source": []
  }
 ],
 "metadata": {
  "kernelspec": {
   "display_name": "Python 3 (ipykernel)",
   "language": "python",
   "name": "python3"
  },
  "language_info": {
   "codemirror_mode": {
    "name": "ipython",
    "version": 3
   },
   "file_extension": ".py",
   "mimetype": "text/x-python",
   "name": "python",
   "nbconvert_exporter": "python",
   "pygments_lexer": "ipython3",
   "version": "3.9.7"
  }
 },
 "nbformat": 4,
 "nbformat_minor": 5
}
