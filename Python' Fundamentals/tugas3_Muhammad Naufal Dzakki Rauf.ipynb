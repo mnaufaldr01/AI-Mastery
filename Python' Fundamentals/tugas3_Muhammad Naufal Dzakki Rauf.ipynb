{
 "cells": [
  {
   "cell_type": "markdown",
   "id": "e63b131e",
   "metadata": {},
   "source": [
    "# Function"
   ]
  },
  {
   "cell_type": "code",
   "execution_count": 1,
   "id": "2754b1d7",
   "metadata": {},
   "outputs": [],
   "source": [
    "#Define a function\n",
    "\n",
    "def birthday_kartik():\n",
    "    \"\"\"Print birthday greeting for kartik\"\"\"\n",
    "    print(\"Happy birthday to you!\")\n",
    "    print(\"Happy birthday to you!\")\n",
    "    print(\"Happy birthday, dear kartik.\")\n",
    "    print(\"Happy birthday to you!\")"
   ]
  },
  {
   "cell_type": "code",
   "execution_count": 3,
   "id": "6f31730c",
   "metadata": {},
   "outputs": [
    {
     "name": "stdout",
     "output_type": "stream",
     "text": [
      "Function call 1\n",
      "Happy birthday to you!\n",
      "Happy birthday to you!\n",
      "Happy birthday, dear kartik.\n",
      "Happy birthday to you!\n",
      "\n",
      "Function call 2\n",
      "Happy birthday to you!\n",
      "Happy birthday to you!\n",
      "Happy birthday, dear kartik.\n",
      "Happy birthday to you!\n",
      "\n",
      "Function call 3\n",
      "Happy birthday to you!\n",
      "Happy birthday to you!\n",
      "Happy birthday, dear kartik.\n",
      "Happy birthday to you!\n",
      "\n"
     ]
    }
   ],
   "source": [
    "#Call a function\n",
    "\n",
    "print('Function call 1')\n",
    "birthday_kartik()\n",
    "print()\n",
    "\n",
    "print('Function call 2')\n",
    "birthday_kartik()\n",
    "print()\n",
    "\n",
    "print('Function call 3')\n",
    "birthday_kartik()\n",
    "print()"
   ]
  },
  {
   "cell_type": "code",
   "execution_count": 6,
   "id": "cf872755",
   "metadata": {},
   "outputs": [
    {
     "name": "stdout",
     "output_type": "stream",
     "text": [
      "Printing a single line...\n",
      "\n",
      "Printing two lines...\n",
      "\n",
      "\n"
     ]
    }
   ],
   "source": [
    "#Call a function from within another function\n",
    "\n",
    "def newLine():\n",
    "    \"\"\"Print a new line\"\"\"\n",
    "    print()\n",
    "    \n",
    "def twoNewLine():\n",
    "    newLine()\n",
    "    newLine()\n",
    "    \n",
    "print(\"Printing a single line...\")\n",
    "newLine()\n",
    "print(\"Printing two lines...\")\n",
    "twoNewLine()"
   ]
  },
  {
   "cell_type": "code",
   "execution_count": 8,
   "id": "eb961105",
   "metadata": {},
   "outputs": [
    {
     "name": "stdout",
     "output_type": "stream",
     "text": [
      "Help on function birthday_kartik in module __main__:\n",
      "\n",
      "birthday_kartik()\n",
      "    Print birthday greeting for kartik\n",
      "\n"
     ]
    },
    {
     "data": {
      "text/plain": [
       "function"
      ]
     },
     "execution_count": 8,
     "metadata": {},
     "output_type": "execute_result"
    }
   ],
   "source": [
    "#Help command for functions\n",
    "help(birthday_kartik)\n",
    "type(birthday_kartik)"
   ]
  },
  {
   "cell_type": "code",
   "execution_count": 11,
   "id": "2159843e",
   "metadata": {},
   "outputs": [
    {
     "name": "stdout",
     "output_type": "stream",
     "text": [
      "Happy birthday to you!\n",
      "Happy birthday to you!\n",
      "Happy birthday, dear kartik.\n",
      "Happy birthday to you!\n",
      "\n",
      "Happy birthday to you!\n",
      "Happy birthday to you!\n",
      "Happy birthday, dear kartik.\n",
      "Happy birthday to you!\n"
     ]
    }
   ],
   "source": [
    "#Function with inputs\n",
    "\n",
    "def happyBirthday(name):\n",
    "    \"\"\"Print birthday message with the 'name' of the person inputted\"\"\"\n",
    "    print(\"Happy birthday to you!\")\n",
    "    print(\"Happy birthday to you!\")\n",
    "    print(f\"Happy birthday, dear {name}.\")\n",
    "    print(\"Happy birthday to you!\")\n",
    "    \n",
    "happyBirthday(\"kartik\")\n",
    "my_name = \"kartik\"\n",
    "newLine()\n",
    "happyBirthday(my_name)"
   ]
  },
  {
   "cell_type": "code",
   "execution_count": 22,
   "id": "f657834b",
   "metadata": {},
   "outputs": [
    {
     "data": {
      "text/plain": [
       "418407"
      ]
     },
     "execution_count": 22,
     "metadata": {},
     "output_type": "execute_result"
    }
   ],
   "source": [
    "#Functions with multiple parameters\n",
    "\n",
    "def multiply(x, y):\n",
    "    \"\"\"Multiply integer x by y\"\"\"\n",
    "    result = x * y\n",
    "    return result\n",
    "\n",
    "multiply(1023, 409)"
   ]
  },
  {
   "cell_type": "code",
   "execution_count": 23,
   "id": "6337e79f",
   "metadata": {},
   "outputs": [
    {
     "name": "stdout",
     "output_type": "stream",
     "text": [
      "product: 90 sum: 19\n"
     ]
    }
   ],
   "source": [
    "#Functions with multiple outputs\n",
    "\n",
    "def calculate(x, y):\n",
    "    \"\"\"Calculate the product and sum of the two numbers\"\"\"\n",
    "    product = x*y\n",
    "    summed = x+y\n",
    "    \n",
    "    return product, summed\n",
    "\n",
    "var1, var2 = calculate(10, 9)\n",
    "\n",
    "print(\"product:\",var1,\"sum:\",var2)"
   ]
  },
  {
   "cell_type": "code",
   "execution_count": 24,
   "id": "553fa59e",
   "metadata": {},
   "outputs": [
    {
     "name": "stdout",
     "output_type": "stream",
     "text": [
      "14\n"
     ]
    }
   ],
   "source": [
    "#Lambda - anonymus function\n",
    "\n",
    "double = lambda x: x*2\n",
    "\n",
    "print(double(7))"
   ]
  },
  {
   "cell_type": "code",
   "execution_count": 25,
   "id": "a69ab8b6",
   "metadata": {},
   "outputs": [
    {
     "name": "stdout",
     "output_type": "stream",
     "text": [
      "Even numbers in the list: [4, 6, 8]\n"
     ]
    }
   ],
   "source": [
    "#Lambda function to filter even items in a list\n",
    "\n",
    "my_list = [1,4,3,5,6,7,8,9]\n",
    "new_list = list(filter(lambda x: (x%2 == 0), my_list))\n",
    "\n",
    "print(\"Even numbers in the list:\", new_list)"
   ]
  },
  {
   "cell_type": "code",
   "execution_count": 26,
   "id": "4ab63ddf",
   "metadata": {},
   "outputs": [
    {
     "name": "stdout",
     "output_type": "stream",
     "text": [
      "Double values are: [2, 8, 6, 10, 12, 14, 16, 18]\n"
     ]
    }
   ],
   "source": [
    "#Lambda function to double the item in a list\n",
    "new_list = list(map(lambda x: x * 2, my_list))\n",
    "\n",
    "print(\"Double values are:\", new_list)"
   ]
  },
  {
   "cell_type": "code",
   "execution_count": 27,
   "id": "43605c12",
   "metadata": {},
   "outputs": [
    {
     "name": "stdout",
     "output_type": "stream",
     "text": [
      "Addition of all items in list: 53\n"
     ]
    }
   ],
   "source": [
    "#lambda function with reduce()\n",
    "from functools import reduce\n",
    "list1 = [20, 15, 3, 6, 9]\n",
    "add = reduce(lambda x, y:x+y, list1)\n",
    "\n",
    "print(\"Addition of all items in list:\", add)"
   ]
  },
  {
   "cell_type": "markdown",
   "id": "9d126dfd",
   "metadata": {},
   "source": [
    "# Object Oriented Programming"
   ]
  },
  {
   "cell_type": "code",
   "execution_count": 28,
   "id": "afab0128",
   "metadata": {},
   "outputs": [
    {
     "name": "stdout",
     "output_type": "stream",
     "text": [
      "<class '__main__.parrot'>\n"
     ]
    }
   ],
   "source": [
    "#Using Class\n",
    "\n",
    "class parrot:\n",
    "    pass\n",
    "\n",
    "class person:\n",
    "    pass\n",
    "\n",
    "print(parrot)"
   ]
  },
  {
   "cell_type": "code",
   "execution_count": 29,
   "id": "7de5a0f6",
   "metadata": {},
   "outputs": [
    {
     "name": "stdout",
     "output_type": "stream",
     "text": [
      "<__main__.person object at 0x0000024786AEDC10>\n"
     ]
    }
   ],
   "source": [
    "#Objects\n",
    "\n",
    "obj = parrot()\n",
    "\n",
    "p = person()\n",
    "\n",
    "print(p)"
   ]
  },
  {
   "cell_type": "code",
   "execution_count": 30,
   "id": "a70730f7",
   "metadata": {},
   "outputs": [
    {
     "name": "stdout",
     "output_type": "stream",
     "text": [
      "Welcome to AI Mastery Program\n"
     ]
    }
   ],
   "source": [
    "#Creating class and object in Python\n",
    "\n",
    "class Student:\n",
    "    \"\"\"Student class with data\"\"\"\n",
    "    def learn(self):\n",
    "        print(\"Welcome to AI Mastery Program\")\n",
    "        \n",
    "stud = Student()\n",
    "stud.learn()"
   ]
  },
  {
   "cell_type": "code",
   "execution_count": 32,
   "id": "f4a9c6b7",
   "metadata": {},
   "outputs": [
    {
     "name": "stdout",
     "output_type": "stream",
     "text": [
      "Milan\n",
      "Parmar\n",
      "96\n",
      "England\n",
      "London\n"
     ]
    }
   ],
   "source": [
    "#Class constructor\n",
    "class Person:\n",
    "    def __init__(self, firstName, lastName, age, country, city):\n",
    "        self.firstName = firstName\n",
    "        self.lastName = lastName\n",
    "        self.age = age\n",
    "        self.country = country\n",
    "        self.city = city\n",
    "        \n",
    "p = Person('Milan', 'Parmar', 96, 'England', 'London')\n",
    "print(p.firstName)\n",
    "print(p.lastName)\n",
    "print(p.age)\n",
    "print(p.country)\n",
    "print(p.city)"
   ]
  },
  {
   "cell_type": "code",
   "execution_count": 33,
   "id": "f724ec85",
   "metadata": {},
   "outputs": [
    {
     "name": "stdout",
     "output_type": "stream",
     "text": [
      "Name is Peter and percentage is 100\n"
     ]
    }
   ],
   "source": [
    "#Another constructor examples\n",
    "class Student:\n",
    "    def __init__(self, name, percentage):\n",
    "        self.name = name\n",
    "        self.percentage = percentage\n",
    "    \n",
    "    def show(self):\n",
    "        print(\"Name is\", self.name, \"and percentage is\", self.percentage)\n",
    "        \n",
    "stud = Student(\"Peter\", 100)\n",
    "stud.show()"
   ]
  },
  {
   "cell_type": "code",
   "execution_count": 35,
   "id": "3f853b8f",
   "metadata": {},
   "outputs": [
    {
     "name": "stdout",
     "output_type": "stream",
     "text": [
      "Blu is a bird\n",
      "Woo is also a bird\n",
      "Blu is 10 years old\n",
      "Woo is 15 years old\n"
     ]
    }
   ],
   "source": [
    "#Access object information\n",
    "\n",
    "class Parrot:\n",
    "    species = \"bird\"\n",
    "    def __init__(self, name, age):\n",
    "        self.name = name\n",
    "        self.age = age\n",
    "        \n",
    "#Initiate Parrot instances\n",
    "blu = Parrot(\"Blu\", 10)\n",
    "woo = Parrot(\"Woo\", 15)\n",
    "\n",
    "#Access class' attributes\n",
    "print(\"Blu is a {}\".format(blu.species))\n",
    "print(\"Woo is also a {}\".format(woo.species))\n",
    "\n",
    "\n",
    "#Access the instance's attributes\n",
    "print(\"{} is {} years old\".format(blu.name, blu.age))\n",
    "print(\"{} is {} years old\".format(woo.name, woo.age))"
   ]
  },
  {
   "cell_type": "code",
   "execution_count": 37,
   "id": "4fff6c3f",
   "metadata": {},
   "outputs": [
    {
     "name": "stdout",
     "output_type": "stream",
     "text": [
      "Milaan Parmar is 96 years old. He lives in London, England.\n"
     ]
    }
   ],
   "source": [
    "class Person:\n",
    "    def __init__(self, firstname, lastname, age, country, city):\n",
    "        self.firstname = firstname\n",
    "        self.lastname = lastname\n",
    "        self.age = age\n",
    "        self.country = country\n",
    "        self.city = city\n",
    "    \n",
    "    def person_info(self):\n",
    "        return f'{self.firstname} {self.lastname} is {self.age} years old. He lives in {self.city}, {self.country}.'\n",
    "        \n",
    "p = Person('Milaan', 'Parmar', 96, 'England', 'London')\n",
    "print(p.person_info())"
   ]
  },
  {
   "cell_type": "code",
   "execution_count": 38,
   "id": "38202d5a",
   "metadata": {},
   "outputs": [
    {
     "name": "stdout",
     "output_type": "stream",
     "text": [
      "Blu sings Happy\n",
      "Blu is dancing\n"
     ]
    }
   ],
   "source": [
    "class Parrot:\n",
    "    species = \"bird\"\n",
    "    def __init__(self, name, age):\n",
    "        self.name = name\n",
    "        self.age = age\n",
    "    \n",
    "    def sing(self, song):\n",
    "        return \"{} sings {}\".format(self.name, song)\n",
    "    \n",
    "    def dance(self):\n",
    "        return \"{} is dancing\".format(self.name)\n",
    "    \n",
    "#Initiate Parrot instance\n",
    "blu = Parrot(\"Blu\", 10)\n",
    "\n",
    "#Call instance's methods\n",
    "print(blu.sing(\"Happy\"))\n",
    "print(blu.dance())"
   ]
  },
  {
   "cell_type": "code",
   "execution_count": 39,
   "id": "1af1574d",
   "metadata": {},
   "outputs": [
    {
     "name": "stdout",
     "output_type": "stream",
     "text": [
      "Milaan Parmar is 96 years old. He lives in London, England.\n",
      "Ben Doe is 30 years old. He lives in Tampere, Finland.\n"
     ]
    }
   ],
   "source": [
    "#Object Default Methods\n",
    "class Person:\n",
    "    def __init__(self, firstname='Milaan', lastname='Parmar',\n",
    "    age=96, country='England', city='London'):\n",
    "        self.firstname = firstname\n",
    "        self.lastname = lastname\n",
    "        self.age = age\n",
    "        self.country = country\n",
    "        self.city = city\n",
    "    \n",
    "    def person_info(self):\n",
    "        return f'{self.firstname} {self.lastname} is {self.age} years old. He lives in {self.city}, {self.country}.'\n",
    "\n",
    "p1 = Person()\n",
    "print(p1.person_info())\n",
    "p2 = Person('Ben', 'Doe', 30, 'Finland', 'Tampere')\n",
    "print(p2.person_info())"
   ]
  },
  {
   "cell_type": "code",
   "execution_count": 41,
   "id": "fc3a6680",
   "metadata": {},
   "outputs": [
    {
     "name": "stdout",
     "output_type": "stream",
     "text": [
      "Milaan Parmar is 96 years old. He lives in London, England.\n",
      "Ben Doe is 30 years old. He lives in Tampere, Finland.\n",
      "['Python', 'MATLAB', 'R']\n",
      "['Photoshop']\n"
     ]
    }
   ],
   "source": [
    "#Method to modify Class default values\n",
    "class Person:\n",
    "    def __init__(self, firstname='Milaan', lastname='Parmar',\n",
    "    age=96, country='England', city='London'):\n",
    "        self.firstname = firstname\n",
    "        self.lastname = lastname\n",
    "        self.age = age\n",
    "        self.country = country\n",
    "        self.city = city\n",
    "        self.skills = []\n",
    "    \n",
    "    def person_info(self):\n",
    "        return f'{self.firstname} {self.lastname} is {self.age} years old. He lives in {self.city}, {self.country}.'\n",
    "    \n",
    "    def add_skill(self, skill):\n",
    "        self.skills.append(skill)\n",
    "\n",
    "p1 = Person()\n",
    "print(p1.person_info())\n",
    "p1.add_skill('Python')\n",
    "p1.add_skill('MATLAB')\n",
    "p1.add_skill('R')\n",
    "p2 = Person('Ben', 'Doe', 30, 'Finland', 'Tampere')\n",
    "print(p2.person_info())\n",
    "print(p1.skills)\n",
    "p2.add_skill('Photoshop')\n",
    "print(p2.skills)"
   ]
  },
  {
   "cell_type": "code",
   "execution_count": 43,
   "id": "575226bd",
   "metadata": {},
   "outputs": [
    {
     "name": "stdout",
     "output_type": "stream",
     "text": [
      "<bound method ClassOne.func1 of <__main__.ClassTwo object at 0x0000024786ADF760>>\n",
      "<bound method ClassTwo.func2 of <__main__.ClassTwo object at 0x0000024786ADF760>>\n"
     ]
    }
   ],
   "source": [
    "#Inheritance\n",
    "class ClassOne:\n",
    "    def func1(self):\n",
    "        print(\"This is the parent class\")\n",
    "\n",
    "class ClassTwo(ClassOne):\n",
    "    def func2(self):\n",
    "        print(\"This is child class\")\n",
    "        \n",
    "obj = ClassTwo()\n",
    "print(obj.func1)\n",
    "print(obj.func2)\n",
    "    "
   ]
  },
  {
   "cell_type": "code",
   "execution_count": 45,
   "id": "4aa0b243",
   "metadata": {},
   "outputs": [
    {
     "name": "stdout",
     "output_type": "stream",
     "text": [
      "Arthur Curry is 33 years old. He lives in London, England.\n",
      "['HTML', 'CSS', 'JavaScript']\n",
      "Emily Carter is 28 years old. He lives in Manchester, England.\n",
      "['Organizing', 'Marketing', 'Digital Marketing']\n"
     ]
    }
   ],
   "source": [
    "class Person:\n",
    "    def __init__(self, firstname='Milaan', lastname='Parmar',\n",
    "    age=96, country='England', city='London'):\n",
    "        self.firstname = firstname\n",
    "        self.lastname = lastname\n",
    "        self.age = age\n",
    "        self.country = country\n",
    "        self.city = city\n",
    "        self.skills = []\n",
    "    \n",
    "    def person_info(self):\n",
    "        return f'{self.firstname} {self.lastname} is {self.age} years old. He lives in {self.city}, {self.country}.'\n",
    "    \n",
    "    def add_skill(self, skill):\n",
    "        self.skills.append(skill)\n",
    "\n",
    "class Student(Person):\n",
    "    pass\n",
    "        \n",
    "s1 = Student('Arthur', 'Curry', 33, 'England', 'London')\n",
    "s2 = Student('Emily', 'Carter', 28, 'England', 'Manchester')\n",
    "print(s1.person_info())\n",
    "s1.add_skill('HTML')\n",
    "s1.add_skill('CSS')\n",
    "s1.add_skill('JavaScript')\n",
    "print(s1.skills)\n",
    "\n",
    "print(s2.person_info())\n",
    "s2.add_skill('Organizing')\n",
    "s2.add_skill('Marketing')\n",
    "s2.add_skill('Digital Marketing')\n",
    "print(s2.skills)"
   ]
  },
  {
   "cell_type": "code",
   "execution_count": 46,
   "id": "abdc65f8",
   "metadata": {},
   "outputs": [
    {
     "name": "stdout",
     "output_type": "stream",
     "text": [
      "Arthur Curry is 33 years old. He lives in London, England.\n",
      "['HTML', 'CSS', 'JavaScript']\n",
      "Emily Carter is 28 years old. She lives in Manchester, England.\n",
      "['Organizing', 'Marketing', 'Digital Marketing']\n"
     ]
    }
   ],
   "source": [
    "class Student(Person):\n",
    "    def __init__ (self, firstname='Milaan', lastname='Parmar',age=96,\n",
    "    country='England', city='London', gender='male'):\n",
    "        self.gender = gender\n",
    "        super().__init__(firstname, lastname,age, country, city)\n",
    "    \n",
    "    def person_info(self):\n",
    "        gender = 'He' if self.gender =='male' else 'She'\n",
    "        return f'{self.firstname} {self.lastname} is {self.age} years old. {gender} lives in {self.city}, {self.country}.'\n",
    "    \n",
    "s1 = Student('Arthur', 'Curry', 33, 'England', 'London','male')\n",
    "s2 = Student('Emily', 'Carter', 28, 'England', 'Manchester','female')\n",
    "print(s1.person_info())\n",
    "s1.add_skill('HTML')\n",
    "s1.add_skill('CSS')\n",
    "s1.add_skill('JavaScript')\n",
    "print(s1.skills)\n",
    "\n",
    "print(s2.person_info())\n",
    "s2.add_skill('Organizing')\n",
    "s2.add_skill('Marketing')\n",
    "s2.add_skill('Digital Marketing')\n",
    "print(s2.skills)"
   ]
  },
  {
   "cell_type": "code",
   "execution_count": 48,
   "id": "a91651b6",
   "metadata": {},
   "outputs": [
    {
     "name": "stdout",
     "output_type": "stream",
     "text": [
      "Selling Price: 900\n",
      "Selling Price: 900\n",
      "Selling Price: 1000\n"
     ]
    }
   ],
   "source": [
    "#Encapsulation\n",
    "\n",
    "class Computer:\n",
    "    def __init__(self):\n",
    "        self.__maxprice = 900\n",
    "        \n",
    "    def sell(self):\n",
    "        print(\"Selling Price: {}\".format(self.__maxprice))\n",
    "        \n",
    "    def setMaxPrice(self, price):\n",
    "        self.__maxprice = price\n",
    "        \n",
    "c = Computer()\n",
    "c.sell()\n",
    "\n",
    "#Change price\n",
    "c.__maxprice = 1000\n",
    "c.sell()\n",
    "\n",
    "#Use setter function\n",
    "c.setMaxPrice(1000)\n",
    "c.sell()"
   ]
  },
  {
   "cell_type": "code",
   "execution_count": 49,
   "id": "c22b7cfe",
   "metadata": {},
   "outputs": [
    {
     "name": "stdout",
     "output_type": "stream",
     "text": [
      "Parrots can fly\n",
      "Penguins can't fly\n"
     ]
    }
   ],
   "source": [
    "#Polymorphism\n",
    "\n",
    "class Parrot:\n",
    "    def fly(self):\n",
    "        print(\"Parrots can fly\")\n",
    "        \n",
    "    def swim(self):\n",
    "        print(\"Parrots can't swim\")\n",
    "        \n",
    "class Penguin:\n",
    "    def fly(self):\n",
    "        print(\"Penguins can't fly\")\n",
    "        \n",
    "    def swim(self):\n",
    "        print(\"Penguins can swim\")\n",
    "        \n",
    "#Common interface\n",
    "def flying_test(bird):\n",
    "    bird.fly()\n",
    "    \n",
    "#Initiate objects\n",
    "blu = Parrot()\n",
    "peggy = Penguin()\n",
    "\n",
    "#Passing the objects\n",
    "flying_test(blu)\n",
    "flying_test(peggy)"
   ]
  },
  {
   "cell_type": "code",
   "execution_count": null,
   "id": "d42fef1f",
   "metadata": {},
   "outputs": [],
   "source": []
  }
 ],
 "metadata": {
  "kernelspec": {
   "display_name": "Python 3 (ipykernel)",
   "language": "python",
   "name": "python3"
  },
  "language_info": {
   "codemirror_mode": {
    "name": "ipython",
    "version": 3
   },
   "file_extension": ".py",
   "mimetype": "text/x-python",
   "name": "python",
   "nbconvert_exporter": "python",
   "pygments_lexer": "ipython3",
   "version": "3.9.7"
  }
 },
 "nbformat": 4,
 "nbformat_minor": 5
}
