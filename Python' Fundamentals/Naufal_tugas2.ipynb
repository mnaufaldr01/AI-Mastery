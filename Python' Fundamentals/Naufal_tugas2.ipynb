{
 "cells": [
  {
   "cell_type": "code",
   "execution_count": 1,
   "id": "bd549644",
   "metadata": {},
   "outputs": [],
   "source": [
    "def fibonacci(n):\n",
    "    \"\"\"Find the value of nth fibonacci sequence\"\"\"\n",
    "    if n<=1:\n",
    "        return 1\n",
    "    else:\n",
    "        return fibonacci(n-1) + fibonacci(n-2)\n",
    "    "
   ]
  },
  {
   "cell_type": "code",
   "execution_count": 2,
   "id": "627aa652",
   "metadata": {},
   "outputs": [
    {
     "name": "stdout",
     "output_type": "stream",
     "text": [
      "FIBONACCI SEQUENCE\n",
      "Enter an integer:5\n",
      "The 5 th fibonacci number is 8\n",
      "You successfully found the number in the fibonacci sequence\n"
     ]
    }
   ],
   "source": [
    "print(\"FIBONACCI SEQUENCE\")\n",
    "try:\n",
    "    a = int(input(\"Enter an integer:\"))\n",
    "    print(\"The\", a, \"th fibonacci number is\", fibonacci(a))\n",
    "\n",
    "except:\n",
    "    print(\"Invalid input, please try again\")\n",
    "else:\n",
    "    print(\"You successfully found the number in the fibonacci sequence\")"
   ]
  },
  {
   "cell_type": "code",
   "execution_count": null,
   "id": "76326780",
   "metadata": {},
   "outputs": [],
   "source": []
  },
  {
   "cell_type": "code",
   "execution_count": null,
   "id": "3d33f3c4",
   "metadata": {},
   "outputs": [],
   "source": []
  }
 ],
 "metadata": {
  "kernelspec": {
   "display_name": "Python 3 (ipykernel)",
   "language": "python",
   "name": "python3"
  },
  "language_info": {
   "codemirror_mode": {
    "name": "ipython",
    "version": 3
   },
   "file_extension": ".py",
   "mimetype": "text/x-python",
   "name": "python",
   "nbconvert_exporter": "python",
   "pygments_lexer": "ipython3",
   "version": "3.9.7"
  }
 },
 "nbformat": 4,
 "nbformat_minor": 5
}
