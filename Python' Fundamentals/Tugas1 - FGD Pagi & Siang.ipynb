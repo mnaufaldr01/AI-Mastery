{
 "cells": [
  {
   "cell_type": "markdown",
   "metadata": {},
   "source": [
    "## FGD PAGI\n",
    "2/3/2022"
   ]
  },
  {
   "cell_type": "markdown",
   "metadata": {},
   "source": [
    "1. Berikut ini adalah tiga variabel yang menyimpan value dengan tipe boolean. Dengan menggunakan variabel tersebut, cobalah untuk mengerjakan soal a - e ! (Akan lebih seru jika kamu menebak terlebih dahulu hasilnya, kemudian baru implementasikan ke dalam kode program. Jika terdapat error, cobalah untuk menyelesaikannya sendiri terlebih dahulu)."
   ]
  },
  {
   "cell_type": "code",
   "execution_count": 11,
   "metadata": {},
   "outputs": [],
   "source": [
    "A = False\n",
    "B = True\n",
    "C = False"
   ]
  },
  {
   "cell_type": "markdown",
   "metadata": {},
   "source": [
    "1. B AND C = False\n",
    "2. B or C = True\n",
    "3. NOT A AND B = True\n",
    "4. (A AND B) OR NOT C = True\n",
    "5. NOT B AND NOT (A OR C) = False"
   ]
  },
  {
   "cell_type": "code",
   "execution_count": 12,
   "metadata": {},
   "outputs": [
    {
     "data": {
      "text/plain": [
       "False"
      ]
     },
     "execution_count": 12,
     "metadata": {},
     "output_type": "execute_result"
    }
   ],
   "source": [
    "B and C"
   ]
  },
  {
   "cell_type": "code",
   "execution_count": 13,
   "metadata": {},
   "outputs": [
    {
     "data": {
      "text/plain": [
       "True"
      ]
     },
     "execution_count": 13,
     "metadata": {},
     "output_type": "execute_result"
    }
   ],
   "source": [
    "B or C"
   ]
  },
  {
   "cell_type": "code",
   "execution_count": 14,
   "metadata": {},
   "outputs": [
    {
     "data": {
      "text/plain": [
       "True"
      ]
     },
     "execution_count": 14,
     "metadata": {},
     "output_type": "execute_result"
    }
   ],
   "source": [
    "not A and B"
   ]
  },
  {
   "cell_type": "code",
   "execution_count": 15,
   "metadata": {},
   "outputs": [
    {
     "data": {
      "text/plain": [
       "True"
      ]
     },
     "execution_count": 15,
     "metadata": {},
     "output_type": "execute_result"
    }
   ],
   "source": [
    "(A and B) or not C"
   ]
  },
  {
   "cell_type": "code",
   "execution_count": 16,
   "metadata": {},
   "outputs": [
    {
     "data": {
      "text/plain": [
       "False"
      ]
     },
     "execution_count": 16,
     "metadata": {},
     "output_type": "execute_result"
    }
   ],
   "source": [
    "not B and not (A or C)"
   ]
  },
  {
   "cell_type": "markdown",
   "metadata": {},
   "source": [
    "2. Di bawah ini terdapat potongan kode program yang masih terdapat error (bug). Selesaikan permasalahan bug tersebut menggunakan pemahaman yang sudah dipelajari!"
   ]
  },
  {
   "cell_type": "code",
   "execution_count": null,
   "metadata": {},
   "outputs": [],
   "source": [
    "#Code Snippet\n",
    "print(Hello!)\n",
    "something == input('Enter something: )\n",
    "print('You entered:' something)"
   ]
  },
  {
   "cell_type": "code",
   "execution_count": 5,
   "metadata": {},
   "outputs": [
    {
     "name": "stdout",
     "output_type": "stream",
     "text": [
      "Hello!\n",
      "Enter something: Max\n",
      "You entered: Max\n"
     ]
    }
   ],
   "source": [
    "#Fixed\n",
    "print('Hello!')\n",
    "something = input('Enter something: ')\n",
    "print('You entered:', something)"
   ]
  },
  {
   "cell_type": "markdown",
   "metadata": {},
   "source": [
    "3. Lakukan hal yang sama seperti pada soal nomor 2!"
   ]
  },
  {
   "cell_type": "code",
   "execution_count": null,
   "metadata": {},
   "outputs": [],
   "source": [
    "#Code Snippet\n",
    "print('Hello!')\n",
    "something = input('Enter something: ')\n",
    "if something = 'hello':\n",
    "    print(\"Hello for you too!\")\n",
    "elif something = 'hi'\n",
    "    print('Hi there!')\n",
    "else:\n",
    "    print(\"I don't know what,\" something, \"means.\")"
   ]
  },
  {
   "cell_type": "code",
   "execution_count": 10,
   "metadata": {},
   "outputs": [
    {
     "name": "stdout",
     "output_type": "stream",
     "text": [
      "Hello!\n",
      "Enter something: hello\n",
      "Hello for you too!\n"
     ]
    }
   ],
   "source": [
    "print('Hello!')\n",
    "something = input('Enter something: ')\n",
    "if something == 'hello':\n",
    "    print(\"Hello for you too!\")\n",
    "elif something == 'hi':\n",
    "    print('Hi there!')\n",
    "else:\n",
    "    print(\"I don't know what\", something, \"means.\")"
   ]
  },
  {
   "cell_type": "markdown",
   "metadata": {},
   "source": [
    "4. Buatlah game suit batu-gunting-kertas sederhana. Di dalam program tersebut terdapat dua orang pemain yang dapat memilih batu/gunting/kertas menggunakan input dari pengguna. Untuk mempermudah penggambaran aturan pemenang dalam game, lengkapilah tabel kemenangan dengan menggunakan semua kemungkinan yang tersedia.\n"
   ]
  },
  {
   "cell_type": "markdown",
   "metadata": {},
   "source": [
    "- Membuat tabel kemenangan (Boleh menggunakan format markdown di Jupyter Notebook)"
   ]
  },
  {
   "cell_type": "markdown",
   "metadata": {},
   "source": [
    "| **Player 1** | **Player 2** | **Winner** |\n",
    "|--------------|--------------|------------|\n",
    "| Gunting      | Gunting      | Draw       |\n",
    "| Gunting      | Batu         | Player 2   |\n",
    "| Gunting      | Kertas       | Player 1   |\n",
    "| Batu         | Gunting      | Player 1   |\n",
    "| Batu         | Batu         | Draw       |\n",
    "| Batu         | Kertas       | Player 2   |\n",
    "| Kertas       | Gunting      | Player 2   |\n",
    "| Kertas       | Batu         | Player 1   |\n",
    "| Kertas       | Kertas       | Draw       |"
   ]
  },
  {
   "cell_type": "code",
   "execution_count": 3,
   "metadata": {},
   "outputs": [
    {
     "name": "stdout",
     "output_type": "stream",
     "text": [
      "Player 1 input (gunting/batu/kertas):lol\n",
      "INVALID INPUT! Gunakan gunting, batu, atau kertas!\n",
      "Player 1 input (gunting/batu/kertas):kertas\n",
      "Player 2 input (gunting/batu/kertas):batu\n",
      "Player 1 wins!\n"
     ]
    }
   ],
   "source": [
    "while True:\n",
    "    player1 = input(\"Player 1 input (gunting/batu/kertas):\")\n",
    "    player1 = player1.lower()\n",
    "    if player1 not in ('gunting', 'batu', 'kertas'):\n",
    "        print(\"INVALID INPUT! Gunakan gunting, batu, atau kertas!\")\n",
    "    else:\n",
    "        break\n",
    "\n",
    "while True:\n",
    "    player2 = input(\"Player 2 input (gunting/batu/kertas):\")\n",
    "    player2 = player2.lower()\n",
    "    if player2 not in ('gunting', 'batu', 'kertas'):\n",
    "        print(\"INVALID INPUT! Gunakan gunting, batu, atau kertas!\")\n",
    "    else:\n",
    "        break\n",
    "        \n",
    "if player1 == \"gunting\":\n",
    "    if player2 == \"gunting\":\n",
    "        print(\"Draw!\")\n",
    "    elif player2 == \"batu\":\n",
    "        print(\"Player 2 wins!\")\n",
    "    else:\n",
    "        print(\"Player 1 wins!\")\n",
    "elif player1 == \"batu\":\n",
    "    if player2 == \"gunting\":\n",
    "        print(\"Player 1 wins\")\n",
    "    elif player2 == \"batu\":\n",
    "        print(\"Draw!\")\n",
    "    else:\n",
    "        print(\"Player 2 wins!\")\n",
    "else:\n",
    "    if player2 == \"gunting\":\n",
    "        print(\"Player 2 wins!\")\n",
    "    elif player2 == \"batu\":\n",
    "        print(\"Player 1 wins!\")\n",
    "    else:\n",
    "        print(\"Draw!\")"
   ]
  },
  {
   "cell_type": "markdown",
   "metadata": {},
   "source": [
    "## FGD Siang"
   ]
  },
  {
   "cell_type": "markdown",
   "metadata": {},
   "source": [
    "1. Buatlah program sederhana yang menerima input secara terus menerus, akan tetapi ketika input berupa string “berhenti”, maka program tersebut akan berhenti berjalan!"
   ]
  },
  {
   "cell_type": "code",
   "execution_count": 5,
   "metadata": {},
   "outputs": [
    {
     "name": "stdout",
     "output_type": "stream",
     "text": [
      "Enter something: yo\n",
      "Enter something: hello\n",
      "Enter something: its a me\n",
      "Enter something: mario\n",
      "Enter something: berhenti\n"
     ]
    }
   ],
   "source": [
    "while True:\n",
    "    textInput = input(\"Enter something: \")\n",
    "    if textInput.lower() == \"berhenti\":\n",
    "        break"
   ]
  },
  {
   "cell_type": "markdown",
   "metadata": {},
   "source": [
    "2. Dengan menggunakan konsep yang sama pada soal nomor 6, buatlah program yang dapat menampilkan menu makanan atau tertentu (minimal 3 menu). Pengguna dapat memilih salah satu dari menu yang disediakan dan menampilkan kembali menu yang dipesan beserta harganya. Program akan berhenti berjalan apabila input dari pengguna berupa string “cukup”.   \n",
    "Contoh:\n",
    "MENU JAJANAN PASAR  \n",
    "Donat - Rp 1250  \n",
    "Bakwan - Rp 1000  \n",
    "Onde-onde - Rp 800  \n",
    "Lemper  - Rp 1250  \n",
    "Risol - Rp 1500   \n",
    "input user: 2  \n",
    "Kamu memesan Bakwan dengan harga Rp 1000, terima kasih sudah berbelanja!  \n",
    "input user: cukup  \n",
    "Terima kasih sudah berbelanja jajanan pasar kami!  \n"
   ]
  },
  {
   "cell_type": "code",
   "execution_count": 15,
   "metadata": {},
   "outputs": [
    {
     "name": "stdout",
     "output_type": "stream",
     "text": [
      "MENU JAJANAN PASAR\n",
      "1. Donat - Rp 1250\n",
      "2. Bakwan - Rp 1000\n",
      "3. Onde-onde - Rp 800\n",
      "4. Lemper  - Rp 1250\n",
      "5. Risol - Rp 1500 \n",
      "\n",
      "Enter the menu number: 2\n",
      "Enter the quantity: 1\n",
      "You ordered:\n",
      "Bakwan\n",
      "With total price: 1000\n",
      "Would you like to order again (ya/cukup)ya\n",
      "MENU JAJANAN PASAR\n",
      "1. Donat - Rp 1250\n",
      "2. Bakwan - Rp 1000\n",
      "3. Onde-onde - Rp 800\n",
      "4. Lemper  - Rp 1250\n",
      "5. Risol - Rp 1500 \n",
      "\n",
      "Enter the menu number: 2\n",
      "Enter the quantity: 10\n",
      "You ordered:\n",
      "Bakwan, Bakwan\n",
      "With total price: 11000\n",
      "Would you like to order again (ya/cukup)ya\n",
      "MENU JAJANAN PASAR\n",
      "1. Donat - Rp 1250\n",
      "2. Bakwan - Rp 1000\n",
      "3. Onde-onde - Rp 800\n",
      "4. Lemper  - Rp 1250\n",
      "5. Risol - Rp 1500 \n",
      "\n",
      "Enter the menu number: 6\n",
      "INVALID! Please input numbers 1-5!\n",
      "Enter the menu number: 5\n",
      "Enter the quantity: 4\n",
      "You ordered:\n",
      "Bakwan, Bakwan, Risol\n",
      "With total price: 17000\n",
      "Would you like to order again (ya/cukup)cukup\n"
     ]
    }
   ],
   "source": [
    "orderStatus = \"ya\"\n",
    "orderList = []\n",
    "totalPrice = 0\n",
    "while orderStatus == \"ya\":\n",
    "    print(\"\"\"MENU JAJANAN PASAR\n",
    "1. Donat - Rp 1250\n",
    "2. Bakwan - Rp 1000\n",
    "3. Onde-onde - Rp 800\n",
    "4. Lemper  - Rp 1250\n",
    "5. Risol - Rp 1500 \n",
    "\"\"\")\n",
    "    while True:\n",
    "        menuChoice = str(input(\"Enter the menu number: \"))\n",
    "        if menuChoice not in ('1', '2', '3', '4', '5'):\n",
    "            print(\"INVALID! Please input numbers 1-5!\")\n",
    "        else:\n",
    "            break\n",
    "    num_of_item = int(input(\"Enter the quantity: \"))\n",
    "    if menuChoice == '1':\n",
    "        orderList.append(\"Donat\")\n",
    "        totalPrice += (num_of_item*1250)\n",
    "    elif menuChoice == '2':\n",
    "        orderList.append(\"Bakwan\")\n",
    "        totalPrice += (num_of_item*1000)\n",
    "    elif menuChoice == '3':\n",
    "        orderList.append(\"Onde-onde\")\n",
    "        totalPrice += (num_of_item*800)\n",
    "    elif menuChoice == '4':\n",
    "        orderList.append(\"Lemper\")\n",
    "        totalPrice += (num_of_item*1250)\n",
    "    elif menuChoice == '5':\n",
    "        orderList.append(\"Risol\")\n",
    "        totalPrice += (num_of_item*1500)\n",
    "        \n",
    "    print(\"You ordered:\")\n",
    "    print(*orderList, sep=\", \")\n",
    "    print(\"With total price:\", totalPrice)\n",
    "    \n",
    "    orderStatus = str(input(\"Would you like to order again (ya/cukup)\"))\n",
    "        "
   ]
  },
  {
   "cell_type": "code",
   "execution_count": null,
   "metadata": {},
   "outputs": [],
   "source": []
  },
  {
   "cell_type": "code",
   "execution_count": null,
   "metadata": {},
   "outputs": [],
   "source": []
  }
 ],
 "metadata": {
  "interpreter": {
   "hash": "61b27f7030da637261bc5ca8bbb5d8ef6479191473438b98486ec1077cbdfbf6"
  },
  "kernelspec": {
   "display_name": "Python 3 (ipykernel)",
   "language": "python",
   "name": "python3"
  },
  "language_info": {
   "codemirror_mode": {
    "name": "ipython",
    "version": 3
   },
   "file_extension": ".py",
   "mimetype": "text/x-python",
   "name": "python",
   "nbconvert_exporter": "python",
   "pygments_lexer": "ipython3",
   "version": "3.9.7"
  }
 },
 "nbformat": 4,
 "nbformat_minor": 2
}
